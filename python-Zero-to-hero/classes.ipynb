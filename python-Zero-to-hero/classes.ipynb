{
 "cells": [
  {
   "cell_type": "markdown",
   "metadata": {},
   "source": [
    "## Abstraction in OOP hides the complex implementation \n",
    "details and exposes only the necessary parts to the user. For example, in a \n",
    "BankAccount  class, the user only interacts with methods like  deposit  and \n",
    "withdraw , while the internal calculations and data management are abstracted \n",
    "away. This simplifies the interface and makes the system easier to use"
   ]
  },
  {
   "cell_type": "code",
   "execution_count": 7,
   "metadata": {},
   "outputs": [],
   "source": [
    "## step -1 import the abc module\n",
    "from abc import ABC, abstractmethod\n",
    "##step-2 create a class that inherits from ABC\n",
    "class shape(ABC):\n",
    "## step-3 create an abstract method\n",
    "    @abstractmethod\n",
    "    def area(self):\n",
    "        pass"
   ]
  },
  {
   "cell_type": "code",
   "execution_count": 9,
   "metadata": {},
   "outputs": [
    {
     "name": "stdout",
     "output_type": "stream",
     "text": [
      "Circle Area: 153.86\n",
      "Rectangle Area: 30\n"
     ]
    }
   ],
   "source": [
    "## step-4 create a class that inherits from the abstract class\n",
    "class circle(shape):\n",
    "    def __init__(self,radius):\n",
    "        self.radius=radius\n",
    "    def area(self):\n",
    "        return 3.14*self.radius*self.radius\n",
    "class rectangle(shape):\n",
    "    def __init__(self,length,breath):\n",
    "        self.length=length\n",
    "        self.breath=breath\n",
    "    def area(self):\n",
    "        return self.length*self.breath\n",
    "a=circle(7)\n",
    "b=rectangle(5,6)\n",
    "print(f\"Circle Area: {a.area()}\")  # Output: Circle Area: 78.5\n",
    "print(f\"Rectangle Area: {b.area()}\")\n",
    "        \n",
    "        "
   ]
  },
  {
   "cell_type": "code",
   "execution_count": 10,
   "metadata": {},
   "outputs": [
    {
     "name": "stdout",
     "output_type": "stream",
     "text": [
      "Circle Area: 78.5, Perimeter: 31.400000000000002\n",
      "Rectangle Area: 24, Perimeter: 20\n"
     ]
    }
   ],
   "source": [
    "from abc import ABC, abstractmethod\n",
    "\n",
    "class Shape(ABC):\n",
    "    @abstractmethod\n",
    "    def area(self):\n",
    "        pass\n",
    "    \n",
    "    @abstractmethod\n",
    "    def perimeter(self):\n",
    "        pass\n",
    "\n",
    "class Circle(Shape):\n",
    "    def __init__(self, radius):\n",
    "        self.radius = radius\n",
    "    \n",
    "    def area(self):\n",
    "        return 3.14 * self.radius * self.radius\n",
    "    \n",
    "    def perimeter(self):\n",
    "        return 2 * 3.14 * self.radius  # Perimeter = 2πr\n",
    "\n",
    "class Rectangle(Shape):\n",
    "    def __init__(self, width, height):\n",
    "        self.width = width\n",
    "        self.height = height\n",
    "    \n",
    "    def area(self):\n",
    "        return self.width * self.height\n",
    "    \n",
    "    def perimeter(self):\n",
    "        return 2 * (self.width + self.height)  # Perimeter = 2(w + h)\n",
    "\n",
    "circle = Circle(5)\n",
    "rectangle = Rectangle(4, 6)\n",
    "\n",
    "print(f\"Circle Area: {circle.area()}, Perimeter: {circle.perimeter()}\")\n",
    "print(f\"Rectangle Area: {rectangle.area()}, Perimeter: {rectangle.perimeter()}\")"
   ]
  },
  {
   "cell_type": "markdown",
   "metadata": {},
   "source": [
    "## Why Use Abstraction and the Shape Class?\n",
    "Without abstraction, you could indeed write something like this:"
   ]
  },
  {
   "cell_type": "code",
   "execution_count": 11,
   "metadata": {},
   "outputs": [
    {
     "name": "stdout",
     "output_type": "stream",
     "text": [
      "78.5\n",
      "24\n"
     ]
    }
   ],
   "source": [
    "class Circle:\n",
    "    def __init__(self, radius):\n",
    "        self.radius = radius\n",
    "    \n",
    "    def area(self):\n",
    "        return 3.14 * self.radius * self.radius\n",
    "\n",
    "class Rectangle:\n",
    "    def __init__(self, width, height):\n",
    "        self.width = width\n",
    "        self.height = height\n",
    "    \n",
    "    def area(self):\n",
    "        return self.width * self.height\n",
    "\n",
    "circle = Circle(5)\n",
    "rectangle = Rectangle(4, 6)\n",
    "print(circle.area())  # Output: 78.5\n",
    "print(rectangle.area())  # Output: 24"
   ]
  },
  {
   "cell_type": "markdown",
   "metadata": {},
   "source": [
    "## 1. Provides a Common Blueprint (Structure)\n",
    "Without Shape: Circle and Rectangle are independent classes. There’s no guarantee they’ll have the same methods (e.g., both having area()). Someone could create a Triangle class without an area() method, and there’d be no way to enforce consistency.\n",
    "\n",
    "\n",
    "With Shape (Abstraction): By defining Shape as an abstract base class with an abstract area() method, you’re saying, “Every shape must have an area() method.” Subclasses are forced to implement it, ensuring a consistent interface."
   ]
  },
  {
   "cell_type": "markdown",
   "metadata": {},
   "source": [
    "## Inheritance\n",
    "\n",
    "Question How does inheritance reduce redundancy in code? Can you \n",
    "illustrate with an example where a derived class reused code from a base \n",
    "class?\n",
    "\n",
    "Example Answer Inheritance reduces redundancy by allowing a derived class \n",
    "to inherit attributes and methods from a base class. For instance, if you have a \n",
    "base class  Animal  with methods like  eat  and  sleep , you can create derived \n",
    "classes such as  Dog  and  Cat  that inherit these methods without redefining \n",
    "them. This reduces code duplication and promotes reuse"
   ]
  },
  {
   "cell_type": "markdown",
   "metadata": {},
   "source": [
    "## What is Inheritance?\n",
    "Inheritance allows a class (called the child or subclass) to inherit properties (attributes and methods) from another class (called the parent or base class). Think of it like a child inheriting traits from a parent in real life—the child gets some features “for free” but can also add or modify traits."
   ]
  },
  {
   "cell_type": "markdown",
   "metadata": {},
   "source": [
    "## 1: Basic Inheritance"
   ]
  },
  {
   "cell_type": "code",
   "execution_count": 12,
   "metadata": {},
   "outputs": [
    {
     "name": "stdout",
     "output_type": "stream",
     "text": [
      "The Toyota engine has started\n"
     ]
    }
   ],
   "source": [
    "## step-1  define the parent class\n",
    "class Vehicle:\n",
    "    def __init__(self,brand,year):\n",
    "        self.brand=brand\n",
    "        self.year=year\n",
    "    \n",
    "    def start_engine(self):\n",
    "        print(f\"The {self.brand} engine has started\")\n",
    "        \n",
    "## step-2 define the child class\n",
    "class Car(Vehicle):\n",
    "    pass\n",
    "\n",
    "## step-3 create an object of the child class\n",
    "car=Car(\"Toyota\",2019)\n",
    "car.start_engine()  # Output: The Toyota engine has started"
   ]
  },
  {
   "cell_type": "markdown",
   "metadata": {},
   "source": [
    "## 2: Extending the Child Class"
   ]
  },
  {
   "cell_type": "code",
   "execution_count": 14,
   "metadata": {},
   "outputs": [
    {
     "name": "stdout",
     "output_type": "stream",
     "text": [
      "The Tayota engine has started\n",
      "The Tayota has 5 seats\n"
     ]
    }
   ],
   "source": [
    "## step-1  define the parent class\n",
    "class Vehicle:\n",
    "    def __init__(self,brand,year):\n",
    "        self.brand=brand\n",
    "        self.year=year\n",
    "    def start_engine(self):\n",
    "        print(f\"The {self.brand} engine has started\")\n",
    "## step-2 define the child class\n",
    "class Car(Vehicle):\n",
    "    def __init__(self,brand,year,seats):\n",
    "        Vehicle.__init__(self,brand,year)\n",
    "        self.seats=seats\n",
    "    def start_engine(self):\n",
    "        print(f\"The {self.brand} engine has started\")\n",
    "        print(f\"The {self.brand} has {self.seats} seats\")\n",
    "## step-3 create an object of the child class\n",
    "car=Car(\"Tayota\",2019,5)\n",
    "car.start_engine()"
   ]
  },
  {
   "cell_type": "code",
   "execution_count": 17,
   "metadata": {},
   "outputs": [
    {
     "name": "stdout",
     "output_type": "stream",
     "text": [
      "Honda\n",
      "2022\n",
      "5\n",
      "The Honda's engine is starting!\n",
      "Honda says: Beep Beep!\n"
     ]
    }
   ],
   "source": [
    "# Step 1: Define the Parent Class\n",
    "class Vehicle:\n",
    "    def __init__(self, brand, year):\n",
    "        self.brand = brand\n",
    "        self.year = year\n",
    "    \n",
    "    def start_engine(self):\n",
    "        return f\"The {self.brand}'s engine is starting!\"\n",
    "\n",
    "# Step 2 & 4: Define and Extend the Child Class\n",
    "class Car(Vehicle):\n",
    "    def __init__(self, brand, year, seats):  # Extend parent's __init__\n",
    "        Vehicle.__init__(self, brand, year)  # Call parent's __init__\n",
    "        self.seats = seats                   # Add new attribute\n",
    "    \n",
    "    def honk(self):                         # Add new method\n",
    "        return f\"{self.brand} says: Beep Beep!\"\n",
    "\n",
    "# Step 5: Create Objects and Test\n",
    "car = Car(\"Honda\", 2022, 5)\n",
    "print(car.brand)           # Output: Honda (inherited)\n",
    "print(car.year)            # Output: 2022 (inherited)\n",
    "print(car.seats)           # Output: 5 (new attribute)\n",
    "print(car.start_engine())  # Output: The Honda's engine is starting! (inherited)\n",
    "print(car.honk())          # Output: Honda says: Beep Beep! (new method)"
   ]
  },
  {
   "cell_type": "markdown",
   "metadata": {},
   "source": [
    "## 3: Overriding Methods"
   ]
  },
  {
   "cell_type": "code",
   "execution_count": 15,
   "metadata": {},
   "outputs": [
    {
     "name": "stdout",
     "output_type": "stream",
     "text": [
      "The Ford car's engine roars to life!\n",
      "Ford says: Beep Beep!\n"
     ]
    }
   ],
   "source": [
    "# Step 1: Define the Parent Class\n",
    "class Vehicle:\n",
    "    def __init__(self, brand, year):\n",
    "        self.brand = brand\n",
    "        self.year = year\n",
    "    \n",
    "    def start_engine(self):\n",
    "        return f\"The {self.brand}'s engine is starting!\"\n",
    "\n",
    "# Step 2 & 4: Define and Override in the Child Class\n",
    "class Car(Vehicle):\n",
    "    def __init__(self, brand, year, seats):\n",
    "        Vehicle.__init__(self, brand, year)\n",
    "        self.seats = seats\n",
    "    \n",
    "    def start_engine(self):  # Override parent's method\n",
    "        return f\"The {self.brand} car's engine roars to life!\"\n",
    "    \n",
    "    def honk(self):\n",
    "        return f\"{self.brand} says: Beep Beep!\"\n",
    "\n",
    "# Step 5: Create Objects and Test\n",
    "car = Car(\"Ford\", 2021, 4)\n",
    "print(car.start_engine())  # Output: The Ford car's engine roars to life! (overridden)\n",
    "print(car.honk())          # Output: Ford says: Beep Beep!\n"
   ]
  },
  {
   "cell_type": "code",
   "execution_count": 16,
   "metadata": {},
   "outputs": [
    {
     "name": "stdout",
     "output_type": "stream",
     "text": [
      "The Ford's engine is starting!\n"
     ]
    }
   ],
   "source": [
    "## by using super() function\n",
    "class Vehicle:\n",
    "    def __init__(self, brand, year):\n",
    "        self.brand = brand\n",
    "        self.year = year\n",
    "    \n",
    "    def start_engine(self):\n",
    "        return f\"The {self.brand}'s engine is starting!\"\n",
    "    \n",
    "class Car(Vehicle):\n",
    "    def __init__(self, brand, year, seats):\n",
    "        super().__init__(brand, year)\n",
    "        self.seats = seats\n",
    "\n",
    "car = Car(\"Ford\", 2021, 4)\n",
    "print(car.start_engine())  # Output: The Ford's engine is starting!\n",
    "\n"
   ]
  },
  {
   "cell_type": "markdown",
   "metadata": {},
   "source": [
    "## polymorphism\n",
    "Polymorphism allows different types of objects to be \n",
    "handled through a common interface. For example, if you have a base class \n",
    "Shape  with a method  draw , and derived classes like  Circle  and  Rectangle  that \n",
    "implement  draw  differently, you can call  draw  on any  Shape  object regardless of \n",
    "its specific type. This flexibility allows for more generic and adaptable code."
   ]
  },
  {
   "cell_type": "markdown",
   "metadata": {},
   "source": [
    "Polymorphism allows a single interface (method, function, or class) to represent different types or behaviors. It enables flexibility and reusability in code by letting subclasses provide their own specific implementations of methods defined in a parent class.\n",
    "\n",
    "There are two main types of polymorphism:\n",
    "\n",
    "1)Compile-time Polymorphism (Static Polymorphism)\n",
    "Achieved through method overloading or operator overloading.\n",
    "Resolved at compile time.\n",
    "\n",
    "2)Run-time Polymorphism (Dynamic Polymorphism)\n",
    "Achieved through method overriding.\n",
    "Resolved at runtime using inheritance and interfaces."
   ]
  },
  {
   "cell_type": "markdown",
   "metadata": {},
   "source": [
    "### . Compile-time Polymorphism (Method Overloading)"
   ]
  },
  {
   "cell_type": "code",
   "execution_count": 19,
   "metadata": {},
   "outputs": [
    {
     "data": {
      "text/plain": [
       "15"
      ]
     },
     "execution_count": 19,
     "metadata": {},
     "output_type": "execute_result"
    }
   ],
   "source": [
    "class calculator:\n",
    "    def add(self,a,b,c=0):\n",
    "        return a+b+c\n",
    "a=calculator()\n",
    "a.add(2,4)\n",
    "a.add(4,5,6)"
   ]
  },
  {
   "cell_type": "markdown",
   "metadata": {},
   "source": [
    "## 2. Run-time Polymorphism (Method Overriding)"
   ]
  },
  {
   "cell_type": "code",
   "execution_count": 20,
   "metadata": {},
   "outputs": [
    {
     "name": "stdout",
     "output_type": "stream",
     "text": [
      "meow\n",
      "bow bow\n",
      "I can speak\n"
     ]
    }
   ],
   "source": [
    "class Animal:\n",
    "    def speak(self):\n",
    "        return \"I can speak\"\n",
    "    \n",
    "class cat(Animal):\n",
    "        def speak(self):\n",
    "            return \"meow\"\n",
    "class dog(Animal):\n",
    "        def speak(self):\n",
    "            return \"bow bow\"\n",
    "def make_animal_speak(animal):\n",
    "        print(animal.speak())\n",
    "        \n",
    "dog=dog()\n",
    "cat=cat()\n",
    "animal=Animal()\n",
    "\n",
    "make_animal_speak(cat)\n",
    "make_animal_speak(dog)\n",
    "make_animal_speak(animal)\n",
    "        \n",
    "    "
   ]
  },
  {
   "cell_type": "code",
   "execution_count": 23,
   "metadata": {},
   "outputs": [
    {
     "name": "stdout",
     "output_type": "stream",
     "text": [
      "Choose a shape to calculate its area:\n",
      "1. Rectangle\n",
      "2. Circle\n",
      "The area is: 1530.0\n"
     ]
    }
   ],
   "source": [
    "import math\n",
    "\n",
    "# Base class\n",
    "class Shape:\n",
    "    def calculate_area(self):\n",
    "        return \"Area calculation not implemented for generic shape\"\n",
    "\n",
    "# Subclass 1: Rectangle\n",
    "class Rectangle(Shape):\n",
    "    def __init__(self, length, width):\n",
    "        self.length = length\n",
    "        self.width = width\n",
    "    \n",
    "    def calculate_area(self):\n",
    "        return self.length * self.width\n",
    "\n",
    "# Subclass 2: Circle\n",
    "class Circle(Shape):\n",
    "    def __init__(self, radius):\n",
    "        self.radius = radius\n",
    "    \n",
    "    def calculate_area(self):\n",
    "        return math.pi * self.radius ** 2\n",
    "\n",
    "# Function to demonstrate polymorphism\n",
    "def get_area(shape):\n",
    "    return shape.calculate_area()\n",
    "\n",
    "# Main program with user input\n",
    "print(\"Choose a shape to calculate its area:\")\n",
    "print(\"1. Rectangle\")\n",
    "print(\"2. Circle\")\n",
    "choice = int(input(\"Enter your choice (1 or 2): \"))\n",
    "\n",
    "if choice == 1:\n",
    "    length = float(input(\"Enter the length of the rectangle: \"))\n",
    "    width = float(input(\"Enter the width of the rectangle: \"))\n",
    "    shape = Rectangle(length, width)\n",
    "elif choice == 2:\n",
    "    radius = float(input(\"Enter the radius of the circle: \"))\n",
    "    shape = Circle(radius)\n",
    "else:\n",
    "    print(\"Invalid choice!\")\n",
    "    shape = Shape()\n",
    "\n",
    "# Polymorphic call to calculate area\n",
    "result = get_area(shape)\n",
    "print(f\"The area is: {result}\")"
   ]
  },
  {
   "cell_type": "markdown",
   "metadata": {},
   "source": [
    "## Encapsulation"
   ]
  },
  {
   "cell_type": "markdown",
   "metadata": {},
   "source": [
    "Example Answer Encapsulation protects data by restricting direct access to \n",
    "an object's internal state and only allowing modifications through defined \n",
    "methods. For example, in a  Person  class, private attributes like  age  can be \n",
    "accessed and modified only through getter and setter methods. This ensures \n",
    "that the data remains valid and prevents unintended changes from outside the \n",
    "class."
   ]
  },
  {
   "cell_type": "code",
   "execution_count": 26,
   "metadata": {},
   "outputs": [
    {
     "name": "stdout",
     "output_type": "stream",
     "text": [
      "234\n",
      "lova\n"
     ]
    }
   ],
   "source": [
    "## simple one\n",
    "class person:\n",
    "    def __init__(self,name,age):\n",
    "        self.name=name\n",
    "        self.age=age\n",
    "        \n",
    "a=person(\"lova\",234)\n",
    "print(a.age)\n",
    "print(a.name)\n",
    "        "
   ]
  },
  {
   "cell_type": "markdown",
   "metadata": {},
   "source": [
    "## private attribute"
   ]
  },
  {
   "cell_type": "code",
   "execution_count": 27,
   "metadata": {},
   "outputs": [
    {
     "data": {
      "text/plain": [
       "<__main__.person at 0x233bff0b280>"
      ]
     },
     "execution_count": 27,
     "metadata": {},
     "output_type": "execute_result"
    }
   ],
   "source": [
    "class person:\n",
    "    def __init__(self,name,age):\n",
    "        self.__name=name  ## private attribute\n",
    "        self.__age=age    ## private attribute\n",
    "person=person(\"lova\",34)\n",
    "# Attempting to access private attributes directly\n",
    "# print(person.__name)  # AttributeError: 'Person' object has no attribute '__name'\n",
    "person"
   ]
  },
  {
   "cell_type": "markdown",
   "metadata": {},
   "source": [
    "## Step 4: Providing Controlled Access with Getters and Setters\n",
    "To allow controlled access to private attributes, we define public methods called getters (to retrieve values) and setters (to modify values). These methods act as intermediaries between the internal state of the object and the outside world."
   ]
  },
  {
   "cell_type": "code",
   "execution_count": 28,
   "metadata": {},
   "outputs": [
    {
     "name": "stdout",
     "output_type": "stream",
     "text": [
      "Alice\n",
      "30\n",
      "Bob\n",
      "25\n"
     ]
    }
   ],
   "source": [
    "\n",
    "class Person:\n",
    "    def __init__(self, name, age):\n",
    "        self.__name = name  # Private attribute\n",
    "        self.__age = age    # Private attribute\n",
    "\n",
    "    # Getter for name\n",
    "    def get_name(self):\n",
    "        return self.__name\n",
    "\n",
    "    # Setter for name\n",
    "    def set_name(self, name):\n",
    "        if isinstance(name, str):  # Validation\n",
    "            self.__name = name\n",
    "        else:\n",
    "            print(\"Invalid name!\")\n",
    "\n",
    "    # Getter for age\n",
    "    def get_age(self):\n",
    "        return self.__age\n",
    "\n",
    "    # Setter for age\n",
    "    def set_age(self, age):\n",
    "        if isinstance(age, int) and age > 0:  # Validation\n",
    "            self.__age = age\n",
    "        else:\n",
    "            print(\"Invalid age!\")\n",
    "\n",
    "# Creating an object\n",
    "person = Person(\"Alice\", 30)\n",
    "\n",
    "# Accessing private attributes using getters\n",
    "print(person.get_name())  # Output: Alice\n",
    "print(person.get_age())   # Output: 30\n",
    "\n",
    "# Modifying private attributes using setters\n",
    "person.set_name(\"Bob\")\n",
    "person.set_age(25)\n",
    "\n",
    "print(person.get_name())  # Output: Bob\n",
    "print(person.get_age())   # Output: 25"
   ]
  },
  {
   "cell_type": "code",
   "execution_count": null,
   "metadata": {},
   "outputs": [],
   "source": []
  },
  {
   "cell_type": "code",
   "execution_count": null,
   "metadata": {},
   "outputs": [],
   "source": []
  }
 ],
 "metadata": {
  "kernelspec": {
   "display_name": "bike",
   "language": "python",
   "name": "python3"
  },
  "language_info": {
   "codemirror_mode": {
    "name": "ipython",
    "version": 3
   },
   "file_extension": ".py",
   "mimetype": "text/x-python",
   "name": "python",
   "nbconvert_exporter": "python",
   "pygments_lexer": "ipython3",
   "version": "3.10.16"
  }
 },
 "nbformat": 4,
 "nbformat_minor": 2
}
