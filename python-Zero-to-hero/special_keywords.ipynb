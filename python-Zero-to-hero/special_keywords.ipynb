{
 "cells": [
  {
   "cell_type": "code",
   "execution_count": 15,
   "metadata": {},
   "outputs": [
    {
     "name": "stdout",
     "output_type": "stream",
     "text": [
      "['False', 'None', 'True', 'and', 'as', 'assert', 'async', 'await', 'break', 'class', 'continue', 'def', 'del', 'elif', 'else', 'except', 'finally', 'for', 'from', 'global', 'if', 'import', 'in', 'is', 'lambda', 'nonlocal', 'not', 'or', 'pass', 'raise', 'return', 'try', 'while', 'with', 'yield']\n"
     ]
    }
   ],
   "source": [
    "import keyword\n",
    "print(keyword.kwlist)"
   ]
  },
  {
   "cell_type": "markdown",
   "metadata": {},
   "source": [
    "## assert"
   ]
  },
  {
   "cell_type": "markdown",
   "metadata": {},
   "source": [
    "##### the assert statement is a debugging aid that tests a condition. If the condition evaluates to True, the program continues running as normal. However, if the condition evaluates to False, an AssertionError is raised, and the program halts"
   ]
  },
  {
   "cell_type": "code",
   "execution_count": null,
   "metadata": {},
   "outputs": [],
   "source": [
    "## syntax\n",
    "assert condition, optional_message"
   ]
  },
  {
   "cell_type": "code",
   "execution_count": 1,
   "metadata": {},
   "outputs": [],
   "source": [
    "a=6\n",
    "assert a==6, \"a is not 6\""
   ]
  },
  {
   "cell_type": "code",
   "execution_count": 2,
   "metadata": {},
   "outputs": [
    {
     "ename": "AssertionError",
     "evalue": "a is not greater than 5",
     "output_type": "error",
     "traceback": [
      "\u001b[1;31m---------------------------------------------------------------------------\u001b[0m",
      "\u001b[1;31mAssertionError\u001b[0m                            Traceback (most recent call last)",
      "Cell \u001b[1;32mIn[2], line 3\u001b[0m\n\u001b[0;32m      1\u001b[0m \u001b[38;5;66;03m## rises an exception\u001b[39;00m\n\u001b[0;32m      2\u001b[0m a\u001b[38;5;241m=\u001b[39m\u001b[38;5;241m4\u001b[39m\n\u001b[1;32m----> 3\u001b[0m \u001b[38;5;28;01massert\u001b[39;00m a\u001b[38;5;241m>\u001b[39m\u001b[38;5;241m5\u001b[39m, \u001b[38;5;124m\"\u001b[39m\u001b[38;5;124ma is not greater than 5\u001b[39m\u001b[38;5;124m\"\u001b[39m\n",
      "\u001b[1;31mAssertionError\u001b[0m: a is not greater than 5"
     ]
    }
   ],
   "source": [
    "\n",
    "## rises an exception\n",
    "a=4\n",
    "assert a>5, \"a is not greater than 5\""
   ]
  },
  {
   "cell_type": "markdown",
   "metadata": {},
   "source": [
    "\n",
    "### When to Use assert:\n",
    "Debugging : assert is mainly used during development to catch bugs or unexpected conditions in your code.\n",
    "\n",
    "Sanity Checks : It can be used to ensure that certain conditions are met before proceeding further in the code.\n",
    "\n",
    "Defensive Programming : You can use assertions to check for conditions that should always be true at a certain point in your program.\n"
   ]
  },
  {
   "cell_type": "code",
   "execution_count": 5,
   "metadata": {},
   "outputs": [],
   "source": [
    "def divide(a,b):\n",
    "    assert b!=0, \"b shoud not be zero\"\n",
    "    return a/b\n",
    "\n",
    "\n",
    "\n"
   ]
  },
  {
   "cell_type": "code",
   "execution_count": null,
   "metadata": {},
   "outputs": [
    {
     "data": {
      "text/plain": [
       "5.0"
      ]
     },
     "execution_count": 4,
     "metadata": {},
     "output_type": "execute_result"
    }
   ],
   "source": [
    "divide(10,2) # runn correctly"
   ]
  },
  {
   "cell_type": "code",
   "execution_count": null,
   "metadata": {},
   "outputs": [
    {
     "ename": "AssertionError",
     "evalue": "b shoud not be zero",
     "output_type": "error",
     "traceback": [
      "\u001b[1;31m---------------------------------------------------------------------------\u001b[0m",
      "\u001b[1;31mAssertionError\u001b[0m                            Traceback (most recent call last)",
      "Cell \u001b[1;32mIn[6], line 1\u001b[0m\n\u001b[1;32m----> 1\u001b[0m \u001b[43mdivide\u001b[49m\u001b[43m(\u001b[49m\u001b[38;5;241;43m10\u001b[39;49m\u001b[43m,\u001b[49m\u001b[38;5;241;43m0\u001b[39;49m\u001b[43m)\u001b[49m\n",
      "Cell \u001b[1;32mIn[5], line 2\u001b[0m, in \u001b[0;36mdivide\u001b[1;34m(a, b)\u001b[0m\n\u001b[0;32m      1\u001b[0m \u001b[38;5;28;01mdef\u001b[39;00m \u001b[38;5;21mdivide\u001b[39m(a,b):\n\u001b[1;32m----> 2\u001b[0m     \u001b[38;5;28;01massert\u001b[39;00m b\u001b[38;5;241m!=\u001b[39m\u001b[38;5;241m0\u001b[39m, \u001b[38;5;124m\"\u001b[39m\u001b[38;5;124mb shoud not be zero\u001b[39m\u001b[38;5;124m\"\u001b[39m\n\u001b[0;32m      3\u001b[0m     \u001b[38;5;28;01mreturn\u001b[39;00m a\u001b[38;5;241m/\u001b[39mb\n",
      "\u001b[1;31mAssertionError\u001b[0m: b shoud not be zero"
     ]
    }
   ],
   "source": [
    "divide(10,0) # AssertionError: b shoud not be zero"
   ]
  },
  {
   "cell_type": "code",
   "execution_count": null,
   "metadata": {},
   "outputs": [],
   "source": []
  },
  {
   "cell_type": "markdown",
   "metadata": {},
   "source": [
    "## async"
   ]
  },
  {
   "cell_type": "markdown",
   "metadata": {},
   "source": [
    "####  this is sychronous\n",
    "hey your  are cooking dinner  on single stove, now wht happend is \n",
    "\n",
    "1)first prepare the rice for that boils water and pour the rice wait till the ready to finish this rice.\n",
    "\n",
    "2)after rice prepareation only we can start prepare rice .\n",
    "       issue over here is the we have to wait till completed the rice.\n",
    "\n",
    "## what is asynchronus is\n",
    "the same dinner preparation doing \n",
    "1)let say now i am using diffent stoves to prepare rice on one stove and  prepare the curry on other one \n",
    "\n",
    "so what happen here is the rice also boils and at the same time we can prepare the curry with out no waiting \n",
    "\n",
    "---------------like multitasking happen at the same time\n"
   ]
  },
  {
   "cell_type": "code",
   "execution_count": null,
   "metadata": {},
   "outputs": [
    {
     "name": "stdout",
     "output_type": "stream",
     "text": [
      "Boiling water...\n",
      "Water is boiled!\n"
     ]
    }
   ],
   "source": [
    "\n",
    "import asyncio\n",
    "\n",
    "async def boil_water():\n",
    "    await asyncio.sleep(5)\n",
    "    print(\"Boiling water...\")\n",
    "    await asyncio.sleep(1)  # Simulate waiting for water to boil\n",
    "    print(\"Water is boiled!\")\n",
    "\n",
    "await boil_water()"
   ]
  },
  {
   "cell_type": "code",
   "execution_count": 8,
   "metadata": {},
   "outputs": [],
   "source": [
    "import asyncio\n",
    "\n",
    "async def task(name,seconds):\n",
    "    print(f\"Task {name} started\")\n",
    "    await asyncio.sleep(seconds)\n",
    "    print(f\"Task {name} finished after {seconds} seconds\")\n",
    "\n",
    "async def main():\n",
    "    await asyncio.gather(\n",
    "        task(\"one\",4),\n",
    "        task(\"two\",3),\n",
    "        task(\"three\",2)\n",
    "    )\n",
    "    "
   ]
  },
  {
   "cell_type": "code",
   "execution_count": null,
   "metadata": {},
   "outputs": [
    {
     "name": "stdout",
     "output_type": "stream",
     "text": [
      "Task one started\n",
      "Task two started\n",
      "Task three started\n",
      "Task three finished after 2 seconds\n",
      "Task two finished after 3 seconds\n",
      "Task one finished after 4 seconds\n"
     ]
    }
   ],
   "source": [
    "# Run the main function\n",
    "await main() ## await will wait for the main function to finish"
   ]
  },
  {
   "cell_type": "markdown",
   "metadata": {},
   "source": [
    "## raise"
   ]
  },
  {
   "cell_type": "markdown",
   "metadata": {},
   "source": [
    "explicitly raise an exception . Exceptions are a way to handle errors or unexpected conditions in your program. When you use raise, you're telling Python to stop the normal flow of execution and signal that something went wrong."
   ]
  },
  {
   "cell_type": "markdown",
   "metadata": {},
   "source": [
    "## Why Use raise?\n",
    "Error Handling : You can use raise to indicate that a certain condition has occurred that prevents the program from continuing normally.\n",
    "\n",
    "Custom Errors : You can define and raise your own custom exceptions to handle specific error cases in your application.\n",
    "\n",
    "Debugging : Raising exceptions helps identify issues during development by providing meaningful error messages.\n"
   ]
  },
  {
   "cell_type": "code",
   "execution_count": 12,
   "metadata": {},
   "outputs": [
    {
     "name": "stdout",
     "output_type": "stream",
     "text": [
      "error: b should not be zero\n"
     ]
    }
   ],
   "source": [
    "def divide(a,b):\n",
    "    if b==0:\n",
    "        raise ValueError(\"b should not be zero\")\n",
    "    return a/b\n",
    "try:\n",
    "    divide(10,0)\n",
    "except ValueError as e:\n",
    "    print(f'error: {e}')"
   ]
  },
  {
   "cell_type": "code",
   "execution_count": 14,
   "metadata": {},
   "outputs": [
    {
     "name": "stdout",
     "output_type": "stream",
     "text": [
      "no error\n"
     ]
    }
   ],
   "source": [
    "try:\n",
    "    divide(10,2)\n",
    "    print(\"no error\")\n",
    "except ValueError as e:\n",
    "    print(f'error {e}')"
   ]
  },
  {
   "cell_type": "code",
   "execution_count": null,
   "metadata": {},
   "outputs": [],
   "source": []
  }
 ],
 "metadata": {
  "kernelspec": {
   "display_name": "bike",
   "language": "python",
   "name": "python3"
  },
  "language_info": {
   "codemirror_mode": {
    "name": "ipython",
    "version": 3
   },
   "file_extension": ".py",
   "mimetype": "text/x-python",
   "name": "python",
   "nbconvert_exporter": "python",
   "pygments_lexer": "ipython3",
   "version": "3.10.16"
  }
 },
 "nbformat": 4,
 "nbformat_minor": 2
}
