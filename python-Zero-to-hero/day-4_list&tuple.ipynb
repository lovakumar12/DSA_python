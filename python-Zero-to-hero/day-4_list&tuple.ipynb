{
 "cells": [
  {
   "cell_type": "markdown",
   "metadata": {},
   "source": [
    "### **INTRODUCTION TO LIST** ✅"
   ]
  },
  {
   "cell_type": "markdown",
   "metadata": {},
   "source": [
    "#### lists are another one from sequential type. The elements in the list are separated by camma and closed by [] braces.List can store the different data types lets see some exampls....\n"
   ]
  },
  {
   "cell_type": "code",
   "execution_count": 39,
   "metadata": {},
   "outputs": [
    {
     "data": {
      "text/plain": [
       "[1, 3, 4, 45, 'hi', True, 3.0]"
      ]
     },
     "execution_count": 39,
     "metadata": {},
     "output_type": "execute_result"
    }
   ],
   "source": [
    "first_lst=[1,3,4,45,\"hi\",True,3.0]\n",
    "first_lst"
   ]
  },
  {
   "cell_type": "code",
   "execution_count": 40,
   "metadata": {},
   "outputs": [
    {
     "data": {
      "text/plain": [
       "['hello', 23, 3.4, False, 45]"
      ]
     },
     "execution_count": 40,
     "metadata": {},
     "output_type": "execute_result"
    }
   ],
   "source": [
    "another_lst=[\"hello\",23,3.4 ,False,45]\n",
    "another_lst"
   ]
  },
  {
   "cell_type": "markdown",
   "metadata": {},
   "source": [
    "## List indexing"
   ]
  },
  {
   "cell_type": "markdown",
   "metadata": {},
   "source": [
    "\n",
    "Indexing work just like in strings.\n",
    "\n",
    "A list index refers to the location of an element in a list.\n",
    "\n",
    "Remember the indexing begins from 0 in Python.\n",
    "\n",
    "The first element is assigned an index 0, the second element is assigned an index of 1 and so on and so forth."
   ]
  },
  {
   "cell_type": "markdown",
   "metadata": {},
   "source": [
    "![listindex.png](data:image/png;base64,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)"
   ]
  },
  {
   "cell_type": "code",
   "execution_count": 1,
   "metadata": {},
   "outputs": [
    {
     "name": "stdout",
     "output_type": "stream",
     "text": [
      "['Accuracy', 'precision', 'Recall', 'F1score', 'AUC_ROC_Score']\n"
     ]
    }
   ],
   "source": [
    "# consider list of strings\n",
    "\n",
    "metrics=[\"Accuracy\",\"precision\",\"Recall\",\"F1score\",\"AUC_ROC_Score\"]\n",
    "\n",
    "print(metrics)"
   ]
  },
  {
   "cell_type": "code",
   "execution_count": 41,
   "metadata": {},
   "outputs": [
    {
     "data": {
      "text/plain": [
       "'Accuracy'"
      ]
     },
     "execution_count": 41,
     "metadata": {},
     "output_type": "execute_result"
    }
   ],
   "source": [
    "metrics[0]"
   ]
  },
  {
   "cell_type": "code",
   "execution_count": 42,
   "metadata": {},
   "outputs": [
    {
     "data": {
      "text/plain": [
       "'F1score'"
      ]
     },
     "execution_count": 42,
     "metadata": {},
     "output_type": "execute_result"
    }
   ],
   "source": [
    "metrics[3]"
   ]
  },
  {
   "cell_type": "code",
   "execution_count": 43,
   "metadata": {},
   "outputs": [
    {
     "data": {
      "text/plain": [
       "'F1score'"
      ]
     },
     "execution_count": 43,
     "metadata": {},
     "output_type": "execute_result"
    }
   ],
   "source": [
    "metrics[-2]  ## index 3(from + side ) is same as -2 from -ve side"
   ]
  },
  {
   "cell_type": "markdown",
   "metadata": {},
   "source": [
    "### LIST Slicing\n",
    " We can use a : to perform slicing which grabs everything up to a designated point.\n",
    "\n",
    "The starting index is specified on the left of the : and the ending index is specified on the right of the :.\n",
    "\n",
    "Remember the element located at the right index is not included i.e right side value always present (n-1)\n",
    "\n",
    "if we use another second : it indicates step value means skipping of some part (n-1)"
   ]
  },
  {
   "cell_type": "code",
   "execution_count": 44,
   "metadata": {},
   "outputs": [
    {
     "data": {
      "text/plain": [
       "['Accuracy', 'precision', 'Recall', 'F1score', 'AUC_ROC_Score']"
      ]
     },
     "execution_count": 44,
     "metadata": {},
     "output_type": "execute_result"
    }
   ],
   "source": [
    "metrics"
   ]
  },
  {
   "cell_type": "code",
   "execution_count": null,
   "metadata": {},
   "outputs": [],
   "source": []
  },
  {
   "cell_type": "code",
   "execution_count": 45,
   "metadata": {},
   "outputs": [
    {
     "data": {
      "text/plain": [
       "['Accuracy', 'precision', 'Recall', 'F1score', 'AUC_ROC_Score']"
      ]
     },
     "execution_count": 45,
     "metadata": {},
     "output_type": "execute_result"
    }
   ],
   "source": [
    "metrics[0:5]"
   ]
  },
  {
   "cell_type": "code",
   "execution_count": 10,
   "metadata": {},
   "outputs": [
    {
     "data": {
      "text/plain": [
       "['Accuracy', 'precision', 'Recall', 'F1score', 'AUC_ROC_Score']"
      ]
     },
     "execution_count": 10,
     "metadata": {},
     "output_type": "execute_result"
    }
   ],
   "source": [
    "metrics[0:]"
   ]
  },
  {
   "cell_type": "code",
   "execution_count": 11,
   "metadata": {},
   "outputs": [
    {
     "data": {
      "text/plain": [
       "['Accuracy', 'precision', 'Recall']"
      ]
     },
     "execution_count": 11,
     "metadata": {},
     "output_type": "execute_result"
    }
   ],
   "source": [
    "metrics[:3]"
   ]
  },
  {
   "cell_type": "code",
   "execution_count": 12,
   "metadata": {},
   "outputs": [
    {
     "data": {
      "text/plain": [
       "['precision']"
      ]
     },
     "execution_count": 12,
     "metadata": {},
     "output_type": "execute_result"
    }
   ],
   "source": [
    "metrics[1:-3]"
   ]
  },
  {
   "cell_type": "code",
   "execution_count": 14,
   "metadata": {},
   "outputs": [
    {
     "data": {
      "text/plain": [
       "['Accuracy', 'precision', 'Recall', 'F1score']"
      ]
     },
     "execution_count": 14,
     "metadata": {},
     "output_type": "execute_result"
    }
   ],
   "source": [
    "metrics[0:4:1]## use step"
   ]
  },
  {
   "cell_type": "code",
   "execution_count": 15,
   "metadata": {},
   "outputs": [
    {
     "data": {
      "text/plain": [
       "['Accuracy', 'Recall']"
      ]
     },
     "execution_count": 15,
     "metadata": {},
     "output_type": "execute_result"
    }
   ],
   "source": [
    "metrics[0:4:2]"
   ]
  },
  {
   "cell_type": "code",
   "execution_count": 16,
   "metadata": {},
   "outputs": [
    {
     "data": {
      "text/plain": [
       "[]"
      ]
     },
     "execution_count": 16,
     "metadata": {},
     "output_type": "execute_result"
    }
   ],
   "source": [
    "metrics[:4:-1]"
   ]
  },
  {
   "cell_type": "markdown",
   "metadata": {},
   "source": [
    "### List Operations\n",
    " Remember we said that lists are mutable as opposed to strings. Lets see how can we change the elements of a list\n",
    " \n",
    " We can also use + to concatenate lists, just like we did for strings."
   ]
  },
  {
   "cell_type": "code",
   "execution_count": 17,
   "metadata": {},
   "outputs": [
    {
     "name": "stdout",
     "output_type": "stream",
     "text": [
      "['Accuracy', 'precision', 'Recall', 'F1score', 'AUC_ROC_Score']\n"
     ]
    }
   ],
   "source": [
    "print(metrics)"
   ]
  },
  {
   "cell_type": "code",
   "execution_count": 20,
   "metadata": {},
   "outputs": [
    {
     "name": "stdout",
     "output_type": "stream",
     "text": [
      "['Accuracy', 'precision', 'Recall', 'F1score', 'AUC_ROC_Score', 'Rosh carporate']\n"
     ]
    }
   ],
   "source": [
    "print(metrics+[\"Rosh carporate\"]) # concates at end off the list previous elements"
   ]
  },
  {
   "cell_type": "code",
   "execution_count": 21,
   "metadata": {},
   "outputs": [
    {
     "data": {
      "text/plain": [
       "['Accuracy', 'precision', 'Recall', 'F1score', 'AUC_ROC_Score']"
      ]
     },
     "execution_count": 21,
     "metadata": {},
     "output_type": "execute_result"
    }
   ],
   "source": [
    "metrics ##just added but not store in metrics variable then how to do that"
   ]
  },
  {
   "cell_type": "code",
   "execution_count": 23,
   "metadata": {},
   "outputs": [
    {
     "data": {
      "text/plain": [
       "['Accuracy',\n",
       " 'precision',\n",
       " 'Recall',\n",
       " 'F1score',\n",
       " 'AUC_ROC_Score',\n",
       " 'Rosh carporate']"
      ]
     },
     "execution_count": 23,
     "metadata": {},
     "output_type": "execute_result"
    }
   ],
   "source": [
    "merics=metrics+['Rosh carporate']\n",
    "merics"
   ]
  },
  {
   "cell_type": "markdown",
   "metadata": {},
   "source": [
    "### List functions"
   ]
  },
  {
   "cell_type": "markdown",
   "metadata": {},
   "source": [
    "\n",
    "## len()\n",
    "##### len() function returns the total number  of the list"
   ]
  },
  {
   "cell_type": "code",
   "execution_count": 24,
   "metadata": {},
   "outputs": [
    {
     "name": "stdout",
     "output_type": "stream",
     "text": [
      "['Accuracy', 'precision', 'Recall', 'F1score', 'AUC_ROC_Score']\n"
     ]
    }
   ],
   "source": [
    "print(metrics)"
   ]
  },
  {
   "cell_type": "code",
   "execution_count": 25,
   "metadata": {},
   "outputs": [
    {
     "data": {
      "text/plain": [
       "5"
      ]
     },
     "execution_count": 25,
     "metadata": {},
     "output_type": "execute_result"
    }
   ],
   "source": [
    "len(metrics) ## so total 5 eelments in the "
   ]
  },
  {
   "cell_type": "markdown",
   "metadata": {},
   "source": [
    "### len() can be useful to finding length of string"
   ]
  },
  {
   "cell_type": "code",
   "execution_count": 27,
   "metadata": {},
   "outputs": [
    {
     "name": "stdout",
     "output_type": "stream",
     "text": [
      "20\n"
     ]
    }
   ],
   "source": [
    "txt=\"hello , welcome home\"\n",
    "print(len(txt))"
   ]
  },
  {
   "cell_type": "markdown",
   "metadata": {},
   "source": [
    "## min()\n",
    "min() function returns the minimum element of the list.\n",
    "\n",
    "min() function only works with lists of similar data types"
   ]
  },
  {
   "cell_type": "code",
   "execution_count": 28,
   "metadata": {},
   "outputs": [
    {
     "data": {
      "text/plain": [
       "0"
      ]
     },
     "execution_count": 28,
     "metadata": {},
     "output_type": "execute_result"
    }
   ],
   "source": [
    "list_=[23,4,67,5,8,78,9,90,0,88,35,7]\n",
    "min(list_)"
   ]
  },
  {
   "cell_type": "code",
   "execution_count": 32,
   "metadata": {},
   "outputs": [
    {
     "data": {
      "text/plain": [
       "'a'"
      ]
     },
     "execution_count": 32,
     "metadata": {},
     "output_type": "execute_result"
    }
   ],
   "source": [
    "list1 = ['a','b', 'z' ,'y' , 'm'] ## why a is small as per the ascii\n",
    "min(list1)"
   ]
  },
  {
   "cell_type": "markdown",
   "metadata": {},
   "source": [
    "### max()\n",
    " max() function returns the maximum element of the list\n",
    " \n",
    " max() function only works with lists of similar data types"
   ]
  },
  {
   "cell_type": "code",
   "execution_count": 33,
   "metadata": {},
   "outputs": [
    {
     "data": {
      "text/plain": [
       "90"
      ]
     },
     "execution_count": 33,
     "metadata": {},
     "output_type": "execute_result"
    }
   ],
   "source": [
    "list_=[23,4,67,5,8,78,9,90,0,88,35,7]\n",
    "max(list_)"
   ]
  },
  {
   "cell_type": "code",
   "execution_count": 34,
   "metadata": {},
   "outputs": [
    {
     "data": {
      "text/plain": [
       "'z'"
      ]
     },
     "execution_count": 34,
     "metadata": {},
     "output_type": "execute_result"
    }
   ],
   "source": [
    "list1 = ['a','b', 'z' ,'y' , 'm'] ## why Z is small as per the ascii\n",
    "max(list1)"
   ]
  },
  {
   "cell_type": "markdown",
   "metadata": {},
   "source": [
    "### sum()\n",
    "\n",
    " sum() function returns the sum of the elements of the list.\n",
    " \n",
    " sum() function only works with lists of numeric data types"
   ]
  },
  {
   "cell_type": "code",
   "execution_count": 35,
   "metadata": {},
   "outputs": [
    {
     "data": {
      "text/plain": [
       "[23, 4, 67, 5, 8, 78, 9, 90, 0, 88, 35, 7]"
      ]
     },
     "execution_count": 35,
     "metadata": {},
     "output_type": "execute_result"
    }
   ],
   "source": [
    "list_"
   ]
  },
  {
   "cell_type": "code",
   "execution_count": 36,
   "metadata": {},
   "outputs": [
    {
     "data": {
      "text/plain": [
       "414"
      ]
     },
     "execution_count": 36,
     "metadata": {},
     "output_type": "execute_result"
    }
   ],
   "source": [
    "sum(list_)"
   ]
  },
  {
   "cell_type": "markdown",
   "metadata": {},
   "source": [
    "### sorted()\n",
    "sorted() function returns the sorted list.\n",
    "\n",
    "sorted() function takes reverse boolean as an argument.\n",
    "\n",
    "sorted() function only works on a list with similar data types.\n"
   ]
  },
  {
   "cell_type": "code",
   "execution_count": 37,
   "metadata": {},
   "outputs": [
    {
     "name": "stdout",
     "output_type": "stream",
     "text": [
      "[23, 4, 67, 5, 8, 78, 9, 90, 0, 88, 35, 7]\n"
     ]
    }
   ],
   "source": [
    "print(list_)"
   ]
  },
  {
   "cell_type": "code",
   "execution_count": 38,
   "metadata": {},
   "outputs": [
    {
     "name": "stdout",
     "output_type": "stream",
     "text": [
      "[0, 4, 5, 7, 8, 9, 23, 35, 67, 78, 88, 90]\n"
     ]
    }
   ],
   "source": [
    "print(sorted(list_))"
   ]
  },
  {
   "cell_type": "code",
   "execution_count": 1,
   "metadata": {},
   "outputs": [
    {
     "name": "stdout",
     "output_type": "stream",
     "text": [
      "[1, 2, 3, 4, 1, 2, 3, 4]\n"
     ]
    }
   ],
   "source": [
    "lis=[1,2,3,4]\n",
    "print(lis*2)"
   ]
  },
  {
   "cell_type": "markdown",
   "metadata": {},
   "source": [
    "## list methods"
   ]
  },
  {
   "cell_type": "code",
   "execution_count": 6,
   "metadata": {},
   "outputs": [
    {
     "data": {
      "text/plain": [
       "[1,\n",
       " 2,\n",
       " 3,\n",
       " 4,\n",
       " 'ArithmeticError',\n",
       " 'amity',\n",
       " 'hello',\n",
       " 'hi',\n",
       " ['a', 'b'],\n",
       " [1, 2],\n",
       " 2,\n",
       " 'lova']"
      ]
     },
     "execution_count": 6,
     "metadata": {},
     "output_type": "execute_result"
    }
   ],
   "source": [
    "lis=[1,2,3,4,'ArithmeticError','amity','hello','hi',['a','b'],[1,2]]\n",
    "lis.append(2)\n",
    "lis.append(\"lova\")  ## appends as  last element of list\n",
    "lis"
   ]
  },
  {
   "cell_type": "code",
   "execution_count": 7,
   "metadata": {},
   "outputs": [
    {
     "ename": "TypeError",
     "evalue": "'int' object is not iterable",
     "output_type": "error",
     "traceback": [
      "\u001b[1;31m---------------------------------------------------------------------------\u001b[0m",
      "\u001b[1;31mTypeError\u001b[0m                                 Traceback (most recent call last)",
      "Cell \u001b[1;32mIn[7], line 1\u001b[0m\n\u001b[1;32m----> 1\u001b[0m lis\u001b[38;5;241m.\u001b[39mextend(\u001b[38;5;241m2\u001b[39m)\n",
      "\u001b[1;31mTypeError\u001b[0m: 'int' object is not iterable"
     ]
    }
   ],
   "source": [
    "lis.extend(2)"
   ]
  },
  {
   "cell_type": "code",
   "execution_count": 11,
   "metadata": {},
   "outputs": [
    {
     "data": {
      "text/plain": [
       "[1,\n",
       " 2,\n",
       " 3,\n",
       " 4,\n",
       " 'ArithmeticError',\n",
       " 'amity',\n",
       " 'hello',\n",
       " 'hi',\n",
       " ['a', 'b'],\n",
       " [1, 2],\n",
       " 2,\n",
       " 'lova',\n",
       " 2,\n",
       " 'ji',\n",
       " 2,\n",
       " 'ji',\n",
       " 2,\n",
       " 'ji']"
      ]
     },
     "execution_count": 11,
     "metadata": {},
     "output_type": "execute_result"
    }
   ],
   "source": [
    "lis.extend([2,'ji']) #how many times it runs it add those elements that many times end of list\n",
    "lis"
   ]
  },
  {
   "cell_type": "code",
   "execution_count": 13,
   "metadata": {},
   "outputs": [
    {
     "data": {
      "text/plain": [
       "[1,\n",
       " 'hi',\n",
       " 'hi',\n",
       " 2,\n",
       " 3,\n",
       " 4,\n",
       " 'ArithmeticError',\n",
       " 'amity',\n",
       " 'hello',\n",
       " 'hi',\n",
       " ['a', 'b'],\n",
       " [1, 2],\n",
       " 2,\n",
       " 'lova',\n",
       " 2,\n",
       " 'ji',\n",
       " 2,\n",
       " 'ji',\n",
       " 2,\n",
       " 'ji']"
      ]
     },
     "execution_count": 13,
     "metadata": {},
     "output_type": "execute_result"
    }
   ],
   "source": [
    "lis.insert(1,\"hi\")\n",
    "lis"
   ]
  },
  {
   "cell_type": "code",
   "execution_count": 14,
   "metadata": {},
   "outputs": [],
   "source": [
    "lira=[4,5,5,6,7]## elements are moved to next position\n",
    "lira.insert(1,\"hi\")"
   ]
  },
  {
   "cell_type": "code",
   "execution_count": 15,
   "metadata": {},
   "outputs": [
    {
     "data": {
      "text/plain": [
       "[4, 'hi', 5, 5, 6, 7]"
      ]
     },
     "execution_count": 15,
     "metadata": {},
     "output_type": "execute_result"
    }
   ],
   "source": [
    "lira"
   ]
  },
  {
   "cell_type": "code",
   "execution_count": 16,
   "metadata": {},
   "outputs": [],
   "source": [
    "lira.clear()"
   ]
  },
  {
   "cell_type": "code",
   "execution_count": 17,
   "metadata": {},
   "outputs": [
    {
     "data": {
      "text/plain": [
       "[]"
      ]
     },
     "execution_count": 17,
     "metadata": {},
     "output_type": "execute_result"
    }
   ],
   "source": [
    "lira"
   ]
  },
  {
   "cell_type": "code",
   "execution_count": 18,
   "metadata": {},
   "outputs": [],
   "source": [
    "##if we apply list.clear() it clear all the elements\n",
    "## if we apply del.lis() it deletes the list\n",
    "del lira"
   ]
  },
  {
   "cell_type": "code",
   "execution_count": 19,
   "metadata": {},
   "outputs": [
    {
     "ename": "NameError",
     "evalue": "name 'lira' is not defined",
     "output_type": "error",
     "traceback": [
      "\u001b[1;31m---------------------------------------------------------------------------\u001b[0m",
      "\u001b[1;31mNameError\u001b[0m                                 Traceback (most recent call last)",
      "Cell \u001b[1;32mIn[19], line 1\u001b[0m\n\u001b[1;32m----> 1\u001b[0m lira\n",
      "\u001b[1;31mNameError\u001b[0m: name 'lira' is not defined"
     ]
    }
   ],
   "source": [
    "lira"
   ]
  },
  {
   "cell_type": "markdown",
   "metadata": {},
   "source": [
    "## Deep and  shallow copy"
   ]
  },
  {
   "cell_type": "markdown",
   "metadata": {},
   "source": [
    "### in the deep copy  original elements not effect ##nested changes not happening here\n",
    "\n",
    "### in the shallow copy original elements are removed ## nested changes are happen"
   ]
  },
  {
   "cell_type": "code",
   "execution_count": 31,
   "metadata": {},
   "outputs": [
    {
     "name": "stdout",
     "output_type": "stream",
     "text": [
      "Original: [[99, 2, 3], 4, 5]\n",
      "Shallow Copy: [[99, 2, 3], 4, 5]\n"
     ]
    }
   ],
   "source": [
    "import copy\n",
    "\n",
    "# Original list with nested list\n",
    "original = [[1, 2, 3], 4, 5]\n",
    "\n",
    "# Shallow copy\n",
    "shallow_copied = copy.copy(original)\n",
    "\n",
    "# Modify the nested list in the original\n",
    "original[0][0] = 99 ######if any changes in original same reflected on shalloe also\n",
    "\n",
    "\n",
    "print(\"Original:\", original)        # [[99, 2, 3], 4, 5]\n",
    "print(\"Shallow Copy:\", shallow_copied)  # [[99, 2, 3], 4, 5]\n"
   ]
  },
  {
   "cell_type": "code",
   "execution_count": 32,
   "metadata": {},
   "outputs": [
    {
     "name": "stdout",
     "output_type": "stream",
     "text": [
      "Original: [[98658, 2, 3], 4, 5]\n",
      "Shallow Copy: [[98658, 2, 3], 4, 5]\n"
     ]
    }
   ],
   "source": [
    "import copy\n",
    "\n",
    "# Original list with nested list\n",
    "original = [[1, 2, 3], 4, 5]\n",
    "\n",
    "# Shallow copy\n",
    "shallow_copied = copy.copy(original)\n",
    "\n",
    "# Modify the nested list in the original\n",
    "shallow_copied[0][0] = 98658 ######if any changes in original same reflected on shalloe also\n",
    "\n",
    "\n",
    "print(\"Original:\", original)        # [[99, 2, 3], 4, 5]\n",
    "print(\"Shallow Copy:\", shallow_copied)  # [[99, 2, 3], 4, 5]\n"
   ]
  },
  {
   "cell_type": "code",
   "execution_count": 36,
   "metadata": {},
   "outputs": [
    {
     "name": "stdout",
     "output_type": "stream",
     "text": [
      "Original: [[42, 2, 3], 4, 5]\n",
      "Deep Copy: [[98658, 2, 3], 4, 5]\n"
     ]
    }
   ],
   "source": [
    "Original=[[42, 2, 3], 4, 5]\n",
    "# Deep copy\n",
    "deep_copied = copy.deepcopy(original)\n",
    "\n",
    "# Modify the nested list in the original\n",
    "original[0][0] = 42  ## not reflected in deep copy\n",
    "\n",
    "print(\"Original:\", original)       # [[42, 2, 3], 4, 5]\n",
    "print(\"Deep Copy:\", deep_copied)   # [[99, 2, 3], 4, 5]\n"
   ]
  },
  {
   "cell_type": "code",
   "execution_count": 38,
   "metadata": {},
   "outputs": [
    {
     "name": "stdout",
     "output_type": "stream",
     "text": [
      "Original: [[42, 2, 3], 4, 5]\n",
      "Deep Copy: [[42547, 2, 3], 4, 5]\n"
     ]
    }
   ],
   "source": [
    "Original =[[42, 2, 3], 4, 5]\n",
    "deep_copied = copy.deepcopy(original)\n",
    "\n",
    "# Modify the nested list in the original\n",
    "deep_copied[0][0] = 42547  ## not reflected in deep copy\n",
    "\n",
    "print(\"Original:\", original)       # [[42, 2, 3], 4, 5]\n",
    "print(\"Deep Copy:\", deep_copied)   # [[99, 2, 3], 4, 5]"
   ]
  },
  {
   "attachments": {
    "image.png": {
     "image/png": "[encoded data removed]"
    }
   },
   "cell_type": "markdown",
   "metadata": {},
   "source": [
    "![image.png](attachment:image.png)"
   ]
  },
  {
   "cell_type": "markdown",
   "metadata": {},
   "source": [
    "## zip @ Enumerate"
   ]
  },
  {
   "cell_type": "markdown",
   "metadata": {},
   "source": [
    "### zip work for more than two lists and  create the low size input tuples"
   ]
  },
  {
   "cell_type": "code",
   "execution_count": 40,
   "metadata": {},
   "outputs": [
    {
     "name": "stdout",
     "output_type": "stream",
     "text": [
      "<zip object at 0x000001BEBF32E9C0>\n"
     ]
    }
   ],
   "source": [
    "### getting memory location\n",
    "kis=[1,2,3,4]\n",
    "kis1=[3,4,4,5]\n",
    "l1=zip(kis,kis1)\n",
    "print(l1)"
   ]
  },
  {
   "cell_type": "code",
   "execution_count": 41,
   "metadata": {},
   "outputs": [
    {
     "name": "stdout",
     "output_type": "stream",
     "text": [
      "list of [(1, 3), (2, 4), (3, 4), (4, 5)]\n",
      "tuple of ((1, 3), (2, 4), (3, 4), (4, 5))\n",
      "set of {(4, 5), (2, 4), (1, 3), (3, 4)}\n",
      "dic of {1: 3, 2: 4, 3: 4, 4: 5}\n"
     ]
    }
   ],
   "source": [
    "### by using list or \n",
    "kis=[1,2,3,4]\n",
    "kis1=[3,4,4,5]\n",
    "l1=list(zip(kis,kis1))\n",
    "l2=tuple(zip(kis,kis1))\n",
    "l3=set(zip(kis,kis1))\n",
    "l4=dict(zip(kis,kis1))\n",
    "print(\"list of\",l1)\n",
    "print(\"tuple of\",l2)\n",
    "print('set of',l3)\n",
    "print(\"dic of\",l4)"
   ]
  },
  {
   "cell_type": "code",
   "execution_count": 43,
   "metadata": {},
   "outputs": [
    {
     "name": "stdout",
     "output_type": "stream",
     "text": [
      "list of [(1, 3), (2, 4), (3, 5)]\n",
      "tuple of ((1, 3), (2, 4), (3, 5))\n",
      "set of {(2, 4), (1, 3), (3, 5)}\n",
      "dic of {1: 3, 2: 4, 3: 5}\n"
     ]
    }
   ],
   "source": [
    "## set of \n",
    "kis={1,2,3,4}\n",
    "kis1={3,4,4,5}\n",
    "l1=list(zip(kis,kis1))\n",
    "l2=tuple(zip(kis,kis1))\n",
    "l3=set(zip(kis,kis1))\n",
    "l4=dict(zip(kis,kis1))\n",
    "print(\"list of\",l1)\n",
    "print(\"tuple of\",l2)\n",
    "print('set of',l3)\n",
    "print(\"dic of\",l4)"
   ]
  },
  {
   "cell_type": "code",
   "execution_count": 44,
   "metadata": {},
   "outputs": [
    {
     "name": "stdout",
     "output_type": "stream",
     "text": [
      "list of [(1, 3), (2, 4), (3, 5)]\n",
      "tuple of ((1, 3), (2, 4), (3, 5))\n",
      "set of {(2, 4), (1, 3), (3, 5)}\n",
      "dic of {1: 3, 2: 4, 3: 5}\n"
     ]
    }
   ],
   "source": [
    "## dict of \n",
    "kis={1:2,2:3,3:4,4:5}\n",
    "kis1={3:2,4:2,4:4,5:4}\n",
    "l1=list(zip(kis,kis1))\n",
    "l2=tuple(zip(kis,kis1))\n",
    "l3=set(zip(kis,kis1))\n",
    "l4=dict(zip(kis,kis1))\n",
    "print(\"list of\",l1)\n",
    "print(\"tuple of\",l2)\n",
    "print('set of',l3)\n",
    "print(\"dic of\",l4)"
   ]
  },
  {
   "cell_type": "code",
   "execution_count": 46,
   "metadata": {},
   "outputs": [
    {
     "name": "stdout",
     "output_type": "stream",
     "text": [
      "list of [(1, 2), (2, 3), (3, 4), (4, 'hi')]\n",
      "tuple of ((1, 2), (2, 3), (3, 4), (4, 'hi'))\n",
      "set of {(2, 3), (4, 'hi'), (1, 2), (3, 4)}\n",
      "dic of {1: 2, 2: 3, 3: 4, 4: 'hi'}\n"
     ]
    }
   ],
   "source": [
    "## list of differnt data types\n",
    "kis=[1,2,3,4]\n",
    "kis1=[2,3,4,'hi']\n",
    "l1=list(zip(kis,kis1))\n",
    "l2=tuple(zip(kis,kis1))\n",
    "l3=set(zip(kis,kis1))\n",
    "l4=dict(zip(kis,kis1))\n",
    "print(\"list of\",l1)\n",
    "print(\"tuple of\",l2)\n",
    "print('set of',l3)\n",
    "print(\"dic of\",l4)"
   ]
  },
  {
   "cell_type": "code",
   "execution_count": 47,
   "metadata": {},
   "outputs": [
    {
     "name": "stdout",
     "output_type": "stream",
     "text": [
      "list of [(1, 2), (2, 3), (3, 4), (4, 'hi')]\n",
      "tuple of ((1, 2), (2, 3), (3, 4), (4, 'hi'))\n",
      "set of {(2, 3), (4, 'hi'), (1, 2), (3, 4)}\n",
      "dic of {1: 2, 2: 3, 3: 4, 4: 'hi'}\n"
     ]
    }
   ],
   "source": [
    "## list of different sizes ## make it for small size ones\n",
    "kis=[1,2,3,4,\"hello\",'moto']\n",
    "kis1=[2,3,4,'hi']\n",
    "l1=list(zip(kis,kis1))\n",
    "l2=tuple(zip(kis,kis1))\n",
    "l3=set(zip(kis,kis1))\n",
    "l4=dict(zip(kis,kis1))\n",
    "print(\"list of\",l1)\n",
    "print(\"tuple of\",l2)\n",
    "print('set of',l3)\n",
    "print(\"dic of\",l4)"
   ]
  },
  {
   "cell_type": "markdown",
   "metadata": {},
   "source": [
    "## enumerate"
   ]
  },
  {
   "cell_type": "code",
   "execution_count": 48,
   "metadata": {},
   "outputs": [
    {
     "name": "stdout",
     "output_type": "stream",
     "text": [
      "0 4\n",
      "1 5\n",
      "2 6\n",
      "3 7\n",
      "4 8\n",
      "5 9\n"
     ]
    }
   ],
   "source": [
    "l1=[4,5,6,7,8,9]\n",
    "for i,j in enumerate(l1):\n",
    "    print(i,j)"
   ]
  },
  {
   "cell_type": "code",
   "execution_count": 49,
   "metadata": {},
   "outputs": [
    {
     "name": "stdout",
     "output_type": "stream",
     "text": [
      "1 hey\n",
      "2 john\n",
      "3 fred\n"
     ]
    }
   ],
   "source": [
    "l2=('hey','john','fred')\n",
    "for i,j in enumerate(l2,start=1):\n",
    "    print(i,j)"
   ]
  },
  {
   "cell_type": "code",
   "execution_count": 1,
   "metadata": {},
   "outputs": [
    {
     "data": {
      "text/plain": [
       "[1, 2, 3, 1, 2, 3, 1, 2, 3]"
      ]
     },
     "execution_count": 1,
     "metadata": {},
     "output_type": "execute_result"
    }
   ],
   "source": [
    "lis=[1,2,3]\n",
    "lis*3"
   ]
  },
  {
   "cell_type": "code",
   "execution_count": 51,
   "metadata": {},
   "outputs": [
    {
     "name": "stdout",
     "output_type": "stream",
     "text": [
      "0 (1, 'john')\n",
      "1 (2, 'fred')\n",
      "2 (3, 'lova')\n",
      "3 (4, 'potti')\n"
     ]
    }
   ],
   "source": [
    "items={1:'john',2 :'fred', 3 : 'lova',4 : 'potti'}\n",
    "for key,val in enumerate(items.items()):\n",
    "    print(key,val)"
   ]
  },
  {
   "cell_type": "code",
   "execution_count": 52,
   "metadata": {},
   "outputs": [
    {
     "name": "stdout",
     "output_type": "stream",
     "text": [
      "1 john\n",
      "2 fred\n",
      "3 lova\n",
      "4 potti\n"
     ]
    }
   ],
   "source": [
    "items={1:'john',2 :'fred', 3 : 'lova',4 : 'potti'}\n",
    "for index,(key,val) in enumerate(items.items()):\n",
    "    print(key,val)"
   ]
  },
  {
   "cell_type": "markdown",
   "metadata": {},
   "source": [
    "## list comprehension\n",
    "#### [<expression_if_true> if <condition> else <expression_if_false> for <item> in <iterable>]\n"
   ]
  },
  {
   "cell_type": "code",
   "execution_count": 58,
   "metadata": {},
   "outputs": [
    {
     "data": {
      "text/plain": [
       "['even',\n",
       " 'odd',\n",
       " 'even',\n",
       " 'odd',\n",
       " 'even',\n",
       " 'odd',\n",
       " 'even',\n",
       " 'odd',\n",
       " 'even',\n",
       " 'odd',\n",
       " 'even',\n",
       " 'odd']"
      ]
     },
     "execution_count": 58,
     "metadata": {},
     "output_type": "execute_result"
    }
   ],
   "source": [
    "a=['even' if i%2==0  else \"odd\" for i in range(12)]\n",
    "a"
   ]
  },
  {
   "cell_type": "markdown",
   "metadata": {},
   "source": [
    "\n"
   ]
  },
  {
   "cell_type": "code",
   "execution_count": 59,
   "metadata": {},
   "outputs": [
    {
     "name": "stdout",
     "output_type": "stream",
     "text": [
      "['Medium', 'Low', 'High', 'Low']\n"
     ]
    }
   ],
   "source": [
    "numbers = [15, 8, 22, 10]\n",
    "result = [\"High\" if num > 20 else \"Medium\" if num > 10 else \"Low\" for num in numbers]\n",
    "print(result)  # Output: ['Medium', 'Low', 'High', 'Medium']"
   ]
  },
  {
   "cell_type": "markdown",
   "metadata": {},
   "source": [
    "## sort @ sorted"
   ]
  },
  {
   "cell_type": "code",
   "execution_count": 69,
   "metadata": {},
   "outputs": [
    {
     "name": "stdout",
     "output_type": "stream",
     "text": [
      "[3, 4, 6, 8, 9, 10, 22, 51, 71]\n"
     ]
    }
   ],
   "source": [
    "l1=[22,3,4,51,6,71,8,9,10] #### original one chenges its order\n",
    "\n",
    "l1.sort() # Output:\n",
    "print(l1)\n"
   ]
  },
  {
   "cell_type": "code",
   "execution_count": 66,
   "metadata": {},
   "outputs": [
    {
     "name": "stdout",
     "output_type": "stream",
     "text": [
      "[222, 1, 3, 4, 22, 5, 10]\n",
      "[1, 3, 4, 5, 10, 22, 222]\n"
     ]
    }
   ],
   "source": [
    "l2=[222,1,3,4,22,5,10] ## original one not chnges its order\n",
    "print(l2)\n",
    "print(sorted(l2))"
   ]
  },
  {
   "cell_type": "code",
   "execution_count": 67,
   "metadata": {},
   "outputs": [
    {
     "name": "stdout",
     "output_type": "stream",
     "text": [
      "[1, 2, 5, 5, 6, 9]\n"
     ]
    }
   ],
   "source": []
  },
  {
   "cell_type": "code",
   "execution_count": 70,
   "metadata": {},
   "outputs": [
    {
     "name": "stdout",
     "output_type": "stream",
     "text": [
      "[1, 20, 30, 5]\n"
     ]
    }
   ],
   "source": [
    "numbers = [1, 2, 3, 4, 5]\n",
    "\n",
    "numbers[1:4] = [20, 30]\n",
    "\n",
    "print(numbers)"
   ]
  },
  {
   "cell_type": "code",
   "execution_count": 71,
   "metadata": {},
   "outputs": [
    {
     "name": "stdout",
     "output_type": "stream",
     "text": [
      "[1, 2, [20, 30], 4, 5]\n"
     ]
    }
   ],
   "source": [
    "numbers = [1, 2, 3, 4, 5]\n",
    "\n",
    "numbers[2] = [20, 30]\n",
    "\n",
    "print(numbers)"
   ]
  },
  {
   "cell_type": "code",
   "execution_count": 72,
   "metadata": {},
   "outputs": [
    {
     "name": "stdout",
     "output_type": "stream",
     "text": [
      "[1, 2, 20, 30, 4, 5]\n"
     ]
    }
   ],
   "source": [
    "numbers = [1, 2, 3, 4, 5]\n",
    "\n",
    "numbers[2:3] = [20, 30]\n",
    "\n",
    "print(numbers)"
   ]
  },
  {
   "cell_type": "code",
   "execution_count": 73,
   "metadata": {},
   "outputs": [
    {
     "name": "stdout",
     "output_type": "stream",
     "text": [
      "[1, 20, 30, 5]\n"
     ]
    }
   ],
   "source": [
    "numbers = [1, 2, 3, 4, 5]\n",
    "\n",
    "numbers[1:4] = [20, 30]\n",
    "\n",
    "print(numbers)"
   ]
  },
  {
   "cell_type": "code",
   "execution_count": 74,
   "metadata": {},
   "outputs": [
    {
     "name": "stdout",
     "output_type": "stream",
     "text": [
      "[1, 20, 30, 4, 5]\n"
     ]
    }
   ],
   "source": [
    "numbers = [1, 2, 3, 4, 5]\n",
    "\n",
    "numbers[1:3] = [20, 30]\n",
    "\n",
    "print(numbers)"
   ]
  },
  {
   "cell_type": "markdown",
   "metadata": {},
   "source": [
    "## tuple"
   ]
  },
  {
   "cell_type": "markdown",
   "metadata": {},
   "source": [
    "### tuples can be the dictionary keys"
   ]
  },
  {
   "cell_type": "code",
   "execution_count": 75,
   "metadata": {},
   "outputs": [
    {
     "name": "stdout",
     "output_type": "stream",
     "text": [
      "Origin\n",
      "Point A\n"
     ]
    }
   ],
   "source": [
    "# Example: Storing values for coordinates\n",
    "coordinate_dict = {\n",
    "    (0, 0): \"Origin\",\n",
    "    (1, 2): \"Point A\",\n",
    "    (3, 4): \"Point B\"\n",
    "}\n",
    "\n",
    "# Accessing values using tuple keys\n",
    "print(coordinate_dict[(0, 0)])  # Output: Origin\n",
    "print(coordinate_dict[(1, 2)])  # Output: Point A\n"
   ]
  },
  {
   "cell_type": "code",
   "execution_count": 76,
   "metadata": {},
   "outputs": [
    {
     "name": "stdout",
     "output_type": "stream",
     "text": [
      "{'age': 30, 'city': 'New York'}\n"
     ]
    }
   ],
   "source": [
    "# Example: Storing information about a person using a tuple as a key\n",
    "person_dict = {\n",
    "    (\"John\", \"Doe\"): {\"age\": 30, \"city\": \"New York\"},\n",
    "    (\"Jane\", \"Smith\"): {\"age\": 25, \"city\": \"London\"}\n",
    "}\n",
    "\n",
    "# Accessing a person's details\n",
    "print(person_dict[(\"John\", \"Doe\")])  # Output: {'age': 30, 'city': 'New York'}\n"
   ]
  },
  {
   "cell_type": "code",
   "execution_count": 77,
   "metadata": {},
   "outputs": [
    {
     "name": "stdout",
     "output_type": "stream",
     "text": [
      "Key: (0, 0), Value: Origin\n",
      "Key: (1, 2), Value: Point A\n",
      "Key: (3, 4), Value: Point B\n"
     ]
    }
   ],
   "source": [
    "# Iterating through a dictionary with tuple keys\n",
    "for key, value in coordinate_dict.items():\n",
    "    print(f\"Key: {key}, Value: {value}\")\n",
    "# Output:\n",
    "# Key: (0, 0), Value: Origin\n",
    "# Key: (1, 2), Value: Point A\n",
    "# Key: (3, 4), Value: Point B\n"
   ]
  },
  {
   "cell_type": "markdown",
   "metadata": {},
   "source": [
    "##@ tuple size less than the  list size"
   ]
  },
  {
   "cell_type": "code",
   "execution_count": 78,
   "metadata": {},
   "outputs": [
    {
     "name": "stdout",
     "output_type": "stream",
     "text": [
      "136\n"
     ]
    }
   ],
   "source": [
    "import sys\n",
    "l=[1,2,3,4,5,6,7,8,9,10]\n",
    "print(sys.getsizeof(l))"
   ]
  },
  {
   "cell_type": "code",
   "execution_count": 79,
   "metadata": {},
   "outputs": [
    {
     "name": "stdout",
     "output_type": "stream",
     "text": [
      "120\n"
     ]
    }
   ],
   "source": [
    "import sys\n",
    "l=(1,2,3,4,5,6,7,8,9,10)\n",
    "print(sys.getsizeof(l))"
   ]
  },
  {
   "cell_type": "code",
   "execution_count": 80,
   "metadata": {},
   "outputs": [
    {
     "name": "stdout",
     "output_type": "stream",
     "text": [
      "(1, 2, 3, 4, 5, 5, 6, 7, 8, 9)\n"
     ]
    }
   ],
   "source": [
    "t1=(1,2,3,4,5) #tuple addition\n",
    "t2=(5,6 ,7,8,9)\n",
    "print(t1+t2)"
   ]
  },
  {
   "cell_type": "code",
   "execution_count": 82,
   "metadata": {},
   "outputs": [
    {
     "data": {
      "text/plain": [
       "(1, 2, 3, 4, 5, 1, 2, 3, 4, 5)"
      ]
     },
     "execution_count": 82,
     "metadata": {},
     "output_type": "execute_result"
    }
   ],
   "source": [
    "t3=t1*2 ##tuple multiplication\n",
    "t3"
   ]
  },
  {
   "cell_type": "code",
   "execution_count": null,
   "metadata": {},
   "outputs": [],
   "source": [
    "a=[1,3,4,5,6]   #############\n",
    "a[2]=34"
   ]
  },
  {
   "cell_type": "code",
   "execution_count": 14,
   "metadata": {},
   "outputs": [
    {
     "data": {
      "text/plain": [
       "[2, 6, 8, 10, 12]"
      ]
     },
     "execution_count": 14,
     "metadata": {},
     "output_type": "execute_result"
    }
   ],
   "source": [
    "a=[1,3,4,5,6]\n",
    "for i in range(len(a)):\n",
    "    a[i]=a[i]*2\n",
    "a"
   ]
  },
  {
   "cell_type": "code",
   "execution_count": 13,
   "metadata": {},
   "outputs": [
    {
     "data": {
      "text/plain": [
       "[1, 3, 34, 5, 6]"
      ]
     },
     "execution_count": 13,
     "metadata": {},
     "output_type": "execute_result"
    }
   ],
   "source": [
    "a"
   ]
  },
  {
   "cell_type": "code",
   "execution_count": 83,
   "metadata": {},
   "outputs": [
    {
     "data": {
      "text/plain": [
       "[1, 2, 3, 4, 5, 1, 2, 3, 4, 5]"
      ]
     },
     "execution_count": 83,
     "metadata": {},
     "output_type": "execute_result"
    }
   ],
   "source": [
    "t1=[1,2,3,4,5]  ##list multiplication\n",
    "t1*2"
   ]
  },
  {
   "cell_type": "markdown",
   "metadata": {},
   "source": [
    "## len()   ### fror tuple & list\n",
    "### min()\n",
    "## max()\n",
    "### sum()\n",
    "### sorted()"
   ]
  },
  {
   "cell_type": "code",
   "execution_count": null,
   "metadata": {},
   "outputs": [],
   "source": [
    "## len()"
   ]
  },
  {
   "cell_type": "code",
   "execution_count": null,
   "metadata": {},
   "outputs": [],
   "source": []
  }
 ],
 "metadata": {
  "kernelspec": {
   "display_name": "bike",
   "language": "python",
   "name": "python3"
  },
  "language_info": {
   "codemirror_mode": {
    "name": "ipython",
    "version": 3
   },
   "file_extension": ".py",
   "mimetype": "text/x-python",
   "name": "python",
   "nbconvert_exporter": "python",
   "pygments_lexer": "ipython3",
   "version": "3.10.16"
  }
 },
 "nbformat": 4,
 "nbformat_minor": 2
}
