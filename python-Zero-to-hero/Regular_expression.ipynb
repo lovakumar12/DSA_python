{
  "cells": [
    {
      "cell_type": "markdown",
      "metadata": {
        "id": "_X5ZmZagXeUt"
      },
      "source": [
        "### Common Escape Characters in Python\n",
        "\n",
        "1. **Newline (`\\n`)**\n",
        "    - Inserts a new line in the text.\n",
        "    - Example: `\"Hello\\nWorld!\"` will be printed as:"
      ]
    },
    {
      "cell_type": "code",
      "execution_count": null,
      "metadata": {
        "colab": {
          "base_uri": "https://localhost:8080/"
        },
        "id": "sXKTCb_iXeUt",
        "outputId": "66e3ea5d-44d4-4636-f7b6-6368158208f6"
      },
      "outputs": [
        {
          "name": "stdout",
          "output_type": "stream",
          "text": [
            "this is my\n",
            "python class\n"
          ]
        }
      ],
      "source": [
        "print(\"this is my\\npython class\")"
      ]
    },
    {
      "cell_type": "code",
      "execution_count": null,
      "metadata": {
        "colab": {
          "base_uri": "https://localhost:8080/"
        },
        "id": "CaWNQrCPXeUt",
        "outputId": "85c383b2-2bef-4596-baa0-e428081df20f"
      },
      "outputs": [
        {
          "name": "stdout",
          "output_type": "stream",
          "text": [
            "this is my\n",
            "python clas and\n",
            " i will cover each and everytopic in that playlsit\n"
          ]
        }
      ],
      "source": [
        "print(\"this is my\\npython clas and\\n i will cover each and everytopic in that playlsit\")"
      ]
    },
    {
      "cell_type": "code",
      "execution_count": null,
      "metadata": {
        "colab": {
          "base_uri": "https://localhost:8080/"
        },
        "id": "iI2RJnd9XeUu",
        "outputId": "5554c13f-f84f-49e9-8d1b-5880518e6464"
      },
      "outputs": [
        {
          "name": "stdout",
          "output_type": "stream",
          "text": [
            "this is my\\npython class\n"
          ]
        }
      ],
      "source": [
        "print(r\"this is my\\npython class\")"
      ]
    },
    {
      "cell_type": "code",
      "execution_count": null,
      "metadata": {
        "id": "LZLUCNjsXeUu"
      },
      "outputs": [],
      "source": []
    },
    {
      "cell_type": "markdown",
      "metadata": {
        "id": "kAHv0FLXXeUu"
      },
      "source": [
        "2. **Tab (`\\t`)**\n",
        "    - Inserts a horizontal tab space.\n",
        "    - Example: `\"Hello\\tWorld!\"` will be printed as:"
      ]
    },
    {
      "cell_type": "code",
      "execution_count": null,
      "metadata": {
        "colab": {
          "base_uri": "https://localhost:8080/"
        },
        "id": "vYeCU-GHXeUu",
        "outputId": "438b9e1d-2fb3-41d7-f028-b57622a8bf90"
      },
      "outputs": [
        {
          "name": "stdout",
          "output_type": "stream",
          "text": [
            "this is my\tpython clas and\t i will cover each and everytopic in that playlsit\n"
          ]
        }
      ],
      "source": [
        "print(\"this is my\\tpython clas and\\t i will cover each and everytopic in that playlsit\")"
      ]
    },
    {
      "cell_type": "code",
      "execution_count": null,
      "metadata": {
        "id": "foiRyuAiXeUu"
      },
      "outputs": [],
      "source": []
    },
    {
      "cell_type": "code",
      "execution_count": null,
      "metadata": {
        "id": "IuLOwVL0XeUu"
      },
      "outputs": [],
      "source": []
    },
    {
      "cell_type": "code",
      "execution_count": null,
      "metadata": {
        "id": "S8bS1hC7XeUu"
      },
      "outputs": [],
      "source": []
    },
    {
      "cell_type": "markdown",
      "metadata": {
        "id": "SWFTufKeXeUu"
      },
      "source": []
    },
    {
      "cell_type": "markdown",
      "metadata": {
        "id": "Kg0POH0ZXeUu"
      },
      "source": [
        "3. **Backslash (`\\\\`)**\n",
        "    - Inserts a backslash character (`\\`).\n",
        "    - Example: `\"This is a backslash: \\\\\"` will be printed as:"
      ]
    },
    {
      "cell_type": "code",
      "execution_count": null,
      "metadata": {
        "colab": {
          "base_uri": "https://localhost:8080/"
        },
        "id": "Vj3_o4FEXeUu",
        "outputId": "15ebf428-b5d6-4c4f-c8da-8cf1824b4afe"
      },
      "outputs": [
        {
          "name": "stdout",
          "output_type": "stream",
          "text": [
            "this is my\\python clas and\\i will cover each and everytopic in that playlsit \\\n"
          ]
        }
      ],
      "source": [
        "print(\"this is my\\\\python clas and\\\\i will cover each and everytopic in that playlsit \\\\\")"
      ]
    },
    {
      "cell_type": "code",
      "execution_count": null,
      "metadata": {
        "id": "VRoIRt8hXeUv"
      },
      "outputs": [],
      "source": []
    },
    {
      "cell_type": "markdown",
      "metadata": {
        "id": "oYpBGjA7XeUv"
      },
      "source": []
    },
    {
      "cell_type": "markdown",
      "metadata": {
        "id": "1LlUYYnaXeUv"
      },
      "source": [
        "4. **Single Quote (`\\'`)**\n",
        "    - Inserts a single quote character.\n",
        "    - Example: `\"It\\'s a sunny day\"` will be printed as:"
      ]
    },
    {
      "cell_type": "code",
      "execution_count": null,
      "metadata": {
        "colab": {
          "base_uri": "https://localhost:8080/"
        },
        "id": "up0MDcPcXeUv",
        "outputId": "83cb6ccc-d4c1-4b39-c907-acc2ba39d04d"
      },
      "outputs": [
        {
          "name": "stdout",
          "output_type": "stream",
          "text": [
            "this is mypython 'clas and i will cover' each and everytopic in that playlsit\n"
          ]
        }
      ],
      "source": [
        "print(\"this is mypython 'clas and i will cover' each and everytopic in that playlsit\")"
      ]
    },
    {
      "cell_type": "code",
      "execution_count": null,
      "metadata": {
        "id": "eDQC9CAJXeUv"
      },
      "outputs": [],
      "source": []
    },
    {
      "cell_type": "code",
      "execution_count": null,
      "metadata": {
        "id": "tfm4uaRxXeUv"
      },
      "outputs": [],
      "source": []
    },
    {
      "cell_type": "markdown",
      "metadata": {
        "id": "TpND8PL6XeUv"
      },
      "source": [
        "5. **Double Quote (`\\\"`)**\n",
        "    - Inserts a double quote character.\n",
        "    - Example: `\"He said, \\\"Hello!\\\"\"` will be printed as:"
      ]
    },
    {
      "cell_type": "code",
      "execution_count": null,
      "metadata": {
        "colab": {
          "base_uri": "https://localhost:8080/"
        },
        "id": "bCerjBUeXeUv",
        "outputId": "81fd5ce0-8a8d-4dfe-ae83-b545fcdada3d"
      },
      "outputs": [
        {
          "name": "stdout",
          "output_type": "stream",
          "text": [
            "this is my \" python clas and \" i will cover each and everytopic in that playlsit\n"
          ]
        }
      ],
      "source": [
        "print(\"this is my \\\" python clas and \\\" i will cover each and everytopic in that playlsit\")"
      ]
    },
    {
      "cell_type": "code",
      "execution_count": null,
      "metadata": {
        "id": "7XvSWgHwXeUv"
      },
      "outputs": [],
      "source": []
    },
    {
      "cell_type": "code",
      "execution_count": null,
      "metadata": {
        "id": "Dc5T7vpeXeUw"
      },
      "outputs": [],
      "source": []
    },
    {
      "cell_type": "markdown",
      "metadata": {
        "id": "bolgAWZAXeUw"
      },
      "source": []
    },
    {
      "cell_type": "markdown",
      "metadata": {
        "id": "-_u68khnXeUw"
      },
      "source": [
        "6. **Carriage Return (`\\r`)**\n",
        "    - Moves the cursor to the beginning of the line without advancing to the next line.\n",
        "    - Example: `\"Hello\\rWorld!\"` will overwrite \"Hello\" with \"World!\", so it will be printed as:"
      ]
    },
    {
      "cell_type": "markdown",
      "metadata": {
        "id": "1ULM88KFXeUw"
      },
      "source": []
    },
    {
      "cell_type": "code",
      "execution_count": null,
      "metadata": {
        "colab": {
          "base_uri": "https://localhost:8080/"
        },
        "id": "3Ia6OkDevPZF",
        "outputId": "e0a5b73f-5e26-4d10-c5f1-edf7c1b758b8"
      },
      "outputs": [
        {
          "name": "stdout",
          "output_type": "stream",
          "text": [
            "this is my python clas andi will cover each and \reverytopic in that playlsit\n"
          ]
        }
      ],
      "source": [
        "print(\"this is my python clas andi will cover each and \\reverytopic in that playlsit\")"
      ]
    },
    {
      "cell_type": "code",
      "execution_count": null,
      "metadata": {
        "colab": {
          "base_uri": "https://localhost:8080/"
        },
        "id": "it3ds9hgXeUw",
        "outputId": "30469a86-7ab3-4ec8-8f2f-ca7be6c37ce4"
      },
      "outputs": [
        {
          "name": "stdout",
          "output_type": "stream",
          "text": [
            "Hello, World!\rHi\n"
          ]
        }
      ],
      "source": [
        "print(\"Hello, World!\\rHi\")\n"
      ]
    },
    {
      "cell_type": "markdown",
      "metadata": {
        "id": "LiBZaWJJXeUw"
      },
      "source": [
        "7. **ackspace (`\\b`)**\n",
        "    - Moves the cursor one position back (deletes the previous character).\n",
        "    - Example: `\"Hello\\b World!\"` will be printed as:"
      ]
    },
    {
      "cell_type": "markdown",
      "metadata": {
        "id": "FDvx4IMJXeUw"
      },
      "source": []
    },
    {
      "cell_type": "code",
      "execution_count": null,
      "metadata": {
        "colab": {
          "base_uri": "https://localhost:8080/"
        },
        "id": "1FpI8Z9ZXeUw",
        "outputId": "3ca3712f-ea4e-4d62-f678-7faaf0b332ad"
      },
      "outputs": [
        {
          "name": "stdout",
          "output_type": "stream",
          "text": [
            "this is my python clas and\b i will cover each and everytopic in that playlsit\n"
          ]
        }
      ],
      "source": [
        "print(\"this is my python clas and\\b i will cover each and everytopic in that playlsit\")"
      ]
    },
    {
      "cell_type": "code",
      "execution_count": null,
      "metadata": {
        "id": "EyAkdfWRXeUx"
      },
      "outputs": [],
      "source": []
    },
    {
      "cell_type": "code",
      "execution_count": null,
      "metadata": {
        "id": "0ViuvhPNXeUx"
      },
      "outputs": [],
      "source": []
    },
    {
      "cell_type": "markdown",
      "metadata": {
        "id": "5-sN88NWXeUx"
      },
      "source": [
        "8. **Form Feed (`\\f`)**\n",
        "    - Moves the cursor to the next line and to the beginning of the line.\n",
        "    - Example: `\"Hello\\fWorld!\"` will be printed as:"
      ]
    },
    {
      "cell_type": "code",
      "execution_count": null,
      "metadata": {
        "colab": {
          "base_uri": "https://localhost:8080/",
          "height": 36
        },
        "id": "OVKkjLGqqG-P",
        "outputId": "099f1a53-1681-4f47-ba7b-5e65fc45e453"
      },
      "outputs": [
        {
          "data": {
            "application/vnd.google.colaboratory.intrinsic+json": {
              "type": "string"
            },
            "text/plain": [
              "'Hello\\x0cWorld!'"
            ]
          },
          "execution_count": 2,
          "metadata": {},
          "output_type": "execute_result"
        }
      ],
      "source": [
        "\"Hello\\fWorld!\""
      ]
    },
    {
      "cell_type": "code",
      "execution_count": null,
      "metadata": {
        "colab": {
          "base_uri": "https://localhost:8080/"
        },
        "id": "rEvMCJKbXeUx",
        "outputId": "52387231-7e55-41ed-fb8f-fc2aa6f66c7a"
      },
      "outputs": [
        {
          "name": "stdout",
          "output_type": "stream",
          "text": [
            "this is my python clas and \f i will cover each and everytopic in that playlsit\n"
          ]
        }
      ],
      "source": [
        "print(\"this is my python clas and \\f i will cover each and everytopic in that playlsit\") #the output will depend on how the terminal or console interprets the \\f"
      ]
    },
    {
      "cell_type": "code",
      "execution_count": null,
      "metadata": {
        "id": "1y3fwIP5XeU2"
      },
      "outputs": [],
      "source": []
    },
    {
      "cell_type": "markdown",
      "metadata": {
        "id": "ArV86XCwXeU3"
      },
      "source": [
        "# Regex"
      ]
    },
    {
      "cell_type": "markdown",
      "metadata": {
        "id": "uo4rlRFoXeU3"
      },
      "source": [
        "# import re"
      ]
    },
    {
      "cell_type": "markdown",
      "metadata": {
        "id": "KwS5VPL3XeU3"
      },
      "source": [
        "##.2 **Special Sequences**\n",
        "\n",
        "- **`\\d`**: Matches any digit (0-9).\n",
        "- **`\\D`**: Matches any non-digit character.\n",
        "- **`\\w`**: Matches any alphanumeric character plus underscore.\n",
        "- **`\\W`**: Matches any non-alphanumeric character.\n",
        "- **`\\s`**: Matches any whitespace character.\n",
        "- **`\\S`**: Matches any non-whitespace character."
      ]
    },
    {
      "cell_type": "code",
      "execution_count": null,
      "metadata": {
        "id": "M5_GOwG0XeU4"
      },
      "outputs": [],
      "source": [
        "sent=\"James bond 007 wants to learn NLP\""
      ]
    },
    {
      "cell_type": "markdown",
      "metadata": {
        "id": "JIYtooPDXeU4"
      },
      "source": [
        "# 1. re.match()\n",
        "The re.match() function checks for a match only at the beginning of the string."
      ]
    },
    {
      "cell_type": "code",
      "execution_count": null,
      "metadata": {
        "id": "VwwP3rkBXeU4"
      },
      "outputs": [],
      "source": []
    },
    {
      "cell_type": "code",
      "execution_count": null,
      "metadata": {
        "colab": {
          "base_uri": "https://localhost:8080/",
          "height": 36
        },
        "id": "mmlW_iZwru8o",
        "outputId": "b8d848a6-c1c5-459d-dad8-d564ca2db395"
      },
      "outputs": [
        {
          "data": {
            "application/vnd.google.colaboratory.intrinsic+json": {
              "type": "string"
            },
            "text/plain": [
              "'0'"
            ]
          },
          "execution_count": 4,
          "metadata": {},
          "output_type": "execute_result"
        }
      ],
      "source": [
        "import re\n",
        "\n",
        "pattern = r\"\\d\"  # Matches one or more digits\n",
        "string = \"007 james bond wants to learn NLP\"\n",
        "\n",
        "matching=re.match(pattern , string)\n",
        "matching.group()\n"
      ]
    },
    {
      "cell_type": "code",
      "execution_count": null,
      "metadata": {},
      "outputs": [
        {
          "data": {
            "text/plain": [
              "'james'"
            ]
          },
          "execution_count": 3,
          "metadata": {},
          "output_type": "execute_result"
        }
      ],
      "source": [
        "import re\n",
        "\n",
        "pattern = r\"\\w+\"  # Matches one or more digits\n",
        "string = \"007 james bond wants to learn NLP\"\n",
        "\n",
        "matching=re.match(pattern , string)\n",
        "matching.group()"
      ]
    },
    {
      "cell_type": "code",
      "execution_count": null,
      "metadata": {},
      "outputs": [
        {
          "data": {
            "text/plain": [
              "'james'"
            ]
          },
          "execution_count": 4,
          "metadata": {},
          "output_type": "execute_result"
        }
      ],
      "source": [
        "import re\n",
        "\n",
        "pattern = r\"\\w+\"  # Matches alphanumeric characters\n",
        "string = \"james bond wants to learn NLP\"\n",
        "\n",
        "matching=re.match(pattern , string)\n",
        "matching.group()"
      ]
    },
    {
      "cell_type": "code",
      "execution_count": null,
      "metadata": {
        "colab": {
          "base_uri": "https://localhost:8080/",
          "height": 36
        },
        "id": "vZFDP35Omiwp",
        "outputId": "8a63db6e-c901-4fe1-cb0e-9b1444b1c886"
      },
      "outputs": [
        {
          "data": {
            "application/vnd.google.colaboratory.intrinsic+json": {
              "type": "string"
            },
            "text/plain": [
              "'007'"
            ]
          },
          "execution_count": 5,
          "metadata": {},
          "output_type": "execute_result"
        }
      ],
      "source": [
        "import re\n",
        "\n",
        "pattern = r\"\\d+\"  # Matches one or more digits\n",
        "string = \"007 james bond wants to learn NLP\"\n",
        "\n",
        "matching=re.match(pattern , string)\n",
        "matching.group()\n"
      ]
    },
    {
      "cell_type": "code",
      "execution_count": null,
      "metadata": {
        "colab": {
          "base_uri": "https://localhost:8080/",
          "height": 176
        },
        "id": "qmForOtGXeU4",
        "outputId": "bd95fab8-c064-4043-ce13-7ad11618ff2d"
      },
      "outputs": [
        {
          "ename": "AttributeError",
          "evalue": "'NoneType' object has no attribute 'group'",
          "output_type": "error",
          "traceback": [
            "\u001b[0;31m---------------------------------------------------------------------------\u001b[0m",
            "\u001b[0;31mAttributeError\u001b[0m                            Traceback (most recent call last)",
            "\u001b[0;32m<ipython-input-22-3de01cec97f6>\u001b[0m in \u001b[0;36m<cell line: 0>\u001b[0;34m()\u001b[0m\n\u001b[1;32m      5\u001b[0m \u001b[0;34m\u001b[0m\u001b[0m\n\u001b[1;32m      6\u001b[0m \u001b[0mmatching\u001b[0m\u001b[0;34m=\u001b[0m\u001b[0mre\u001b[0m\u001b[0;34m.\u001b[0m\u001b[0mmatch\u001b[0m\u001b[0;34m(\u001b[0m\u001b[0mpattern\u001b[0m \u001b[0;34m,\u001b[0m \u001b[0mstring\u001b[0m\u001b[0;34m)\u001b[0m\u001b[0;34m\u001b[0m\u001b[0;34m\u001b[0m\u001b[0m\n\u001b[0;32m----> 7\u001b[0;31m \u001b[0mmatching\u001b[0m\u001b[0;34m.\u001b[0m\u001b[0mgroup\u001b[0m\u001b[0;34m(\u001b[0m\u001b[0;34m)\u001b[0m\u001b[0;34m\u001b[0m\u001b[0;34m\u001b[0m\u001b[0m\n\u001b[0m",
            "\u001b[0;31mAttributeError\u001b[0m: 'NoneType' object has no attribute 'group'"
          ]
        }
      ],
      "source": [
        "import re\n",
        "\n",
        "pattern = r\"\\d+\"  # Matches one or more digits\n",
        "string = \"abc456\"\n",
        "\n",
        "matching=re.match(pattern , string)\n",
        "matching.group()\n"
      ]
    },
    {
      "cell_type": "markdown",
      "metadata": {
        "id": "pZ5LEzq9XeU4"
      },
      "source": [
        "# 2. re.search()\n",
        "The re.search() function scans through the string and returns the first match it finds.\n",
        "\n"
      ]
    },
    {
      "cell_type": "markdown",
      "metadata": {
        "id": "NfqKz1fEXeU4"
      },
      "source": []
    },
    {
      "cell_type": "markdown",
      "metadata": {
        "id": "yy57K8ksXeU4"
      },
      "source": []
    },
    {
      "cell_type": "code",
      "execution_count": null,
      "metadata": {
        "colab": {
          "base_uri": "https://localhost:8080/",
          "height": 36
        },
        "id": "BGN0BJpRXeU4",
        "outputId": "1f23e3f9-e8be-4d30-9f79-8c2e0eacacd8"
      },
      "outputs": [
        {
          "data": {
            "application/vnd.google.colaboratory.intrinsic+json": {
              "type": "string"
            },
            "text/plain": [
              "'1234'"
            ]
          },
          "execution_count": 6,
          "metadata": {},
          "output_type": "execute_result"
        }
      ],
      "source": [
        "import re\n",
        "\n",
        "pattern = r\"\\d+\"  # Matches one or more digits\n",
        "string = \"abc1234abc456\"\n",
        "search = re.search(pattern, string)\n",
        "search.group()"
      ]
    },
    {
      "cell_type": "markdown",
      "metadata": {
        "id": "o4BjKwVhXeU5"
      },
      "source": [
        "# 3. re.findall()\n",
        "The re.findall() function returns all matches of the pattern in the string as a list."
      ]
    },
    {
      "cell_type": "markdown",
      "metadata": {
        "id": "RBVD3anEXeU5"
      },
      "source": []
    },
    {
      "cell_type": "code",
      "execution_count": null,
      "metadata": {
        "colab": {
          "base_uri": "https://localhost:8080/"
        },
        "id": "rSXRJn7uXeU5",
        "outputId": "eb78ac40-e625-4a01-f8f1-274d393ff8cc"
      },
      "outputs": [
        {
          "data": {
            "text/plain": [
              "['123', '456', '789']"
            ]
          },
          "execution_count": 7,
          "metadata": {},
          "output_type": "execute_result"
        }
      ],
      "source": [
        "import re\n",
        "\n",
        "pattern = r\"\\d+\"  # Matches one or more digits\n",
        "string = \"abc123def456ghi789\"\n",
        "match = re.findall(pattern, string)\n",
        "match\n",
        "\n"
      ]
    },
    {
      "cell_type": "code",
      "execution_count": null,
      "metadata": {
        "id": "Qhg-Qt86XeU6"
      },
      "outputs": [],
      "source": []
    },
    {
      "cell_type": "code",
      "execution_count": null,
      "metadata": {
        "id": "v3xcEbcnXeU6"
      },
      "outputs": [],
      "source": [
        " #"
      ]
    },
    {
      "cell_type": "markdown",
      "metadata": {
        "id": "H0K-8tE8XeU6"
      },
      "source": [
        "# 4. re.finditer()\n",
        "The re.finditer() function returns an iterator yielding match objects for each match."
      ]
    },
    {
      "cell_type": "code",
      "execution_count": null,
      "metadata": {
        "colab": {
          "base_uri": "https://localhost:8080/"
        },
        "id": "o6vTXQ-GXeU7",
        "outputId": "57b2ae4c-7bdf-40aa-88f0-3a4dc750a250"
      },
      "outputs": [
        {
          "name": "stdout",
          "output_type": "stream",
          "text": [
            "123 (3, 6)\n",
            "456 (9, 12)\n",
            "789 (15, 18)\n"
          ]
        }
      ],
      "source": [
        "import re\n",
        "\n",
        "pattern = r\"\\d+\"  # Matches one or more digits\n",
        "string = \"abc123def456ghi789\"\n",
        "\n",
        "match = re.finditer(pattern, string )\n",
        "for i in match:\n",
        "    print(i.group() , i.span())"
      ]
    },
    {
      "cell_type": "code",
      "execution_count": null,
      "metadata": {
        "id": "APpNdkXcXeU8"
      },
      "outputs": [],
      "source": []
    },
    {
      "cell_type": "markdown",
      "metadata": {
        "id": "nbQ8U8TYXeU8"
      },
      "source": [
        "# 5. re.sub()\n",
        "The re.sub() function replaces all occurrences of the pattern with a specified string."
      ]
    },
    {
      "cell_type": "markdown",
      "metadata": {
        "id": "S4UoSrL_XeU8"
      },
      "source": []
    },
    {
      "cell_type": "code",
      "execution_count": null,
      "metadata": {
        "colab": {
          "base_uri": "https://localhost:8080/",
          "height": 35
        },
        "id": "yDy20A2_XeU8",
        "outputId": "ac157650-da02-4318-c124-460099616576"
      },
      "outputs": [
        {
          "data": {
            "application/vnd.google.colaboratory.intrinsic+json": {
              "type": "string"
            },
            "text/plain": [
              "'abc#def#ghi#'"
            ]
          },
          "execution_count": 11,
          "metadata": {},
          "output_type": "execute_result"
        }
      ],
      "source": [
        "import re\n",
        "\n",
        "pattern = r\"\\d+\"  # Matches one or more digits\n",
        "string = \"abc123def456ghi789\"\n",
        "\n",
        "new= re.sub(pattern , \"#\", string)\n",
        "new"
      ]
    },
    {
      "cell_type": "code",
      "execution_count": null,
      "metadata": {
        "id": "R3utIV-YXeU9"
      },
      "outputs": [],
      "source": []
    },
    {
      "cell_type": "markdown",
      "metadata": {
        "id": "1txOcAdQXeU9"
      },
      "source": [
        "# 6. re.split()\n",
        "The re.split() function splits the string at each occurrence of the pattern."
      ]
    },
    {
      "cell_type": "markdown",
      "metadata": {
        "id": "1kzaY5w-XeU9"
      },
      "source": []
    },
    {
      "cell_type": "code",
      "execution_count": null,
      "metadata": {
        "colab": {
          "base_uri": "https://localhost:8080/"
        },
        "id": "c8Mlcqv7XeU9",
        "outputId": "1cde9465-c859-4a83-f4a8-1ca16639033e"
      },
      "outputs": [
        {
          "data": {
            "text/plain": [
              "['abc', 'def', 'ghi', '']"
            ]
          },
          "execution_count": 9,
          "metadata": {},
          "output_type": "execute_result"
        }
      ],
      "source": [
        "import re\n",
        "\n",
        "pattern = r\"\\d+\"  # Matches one or more digits\n",
        "string = \"abc123def456ghi789\"\n",
        "splits = re.split(pattern , string )\n",
        "splits"
      ]
    },
    {
      "cell_type": "code",
      "execution_count": null,
      "metadata": {
        "id": "2YPHRHk0XeU9"
      },
      "outputs": [],
      "source": []
    },
    {
      "cell_type": "markdown",
      "metadata": {
        "id": "puuIrnKQXeU9"
      },
      "source": [
        "# ### 4. **Common Regex Patterns**\n",
        "\n",
        "- **Email Validation**: `r\"[a-zA-Z0-9_.+-]+@[a-zA-Z0-9-]+\\.[a-zA-Z0-9-.]+\"`\n",
        "- **URL Validation**: `r\"http[s]?://(?:[a-zA-Z]|[0-9]|[$-_@.&+]|[!*(),]|(?:%[0-9a-fA-F][0-9a-fA-F]))+\"`\n",
        "- **IP Address Validation**: `r\"\\b\\d{1,3}\\.\\d{1,3}\\.\\d{1,3}\\.\\d{1,3}\\b\"`"
      ]
    },
    {
      "cell_type": "markdown",
      "metadata": {
        "id": "lAJjMPfzXeU-"
      },
      "source": []
    },
    {
      "cell_type": "markdown",
      "metadata": {
        "id": "Yf6BQVgSXeU-"
      },
      "source": [
        "# 5.1 Extracting All Emails from a Text"
      ]
    },
    {
      "cell_type": "code",
      "execution_count": null,
      "metadata": {
        "id": "jpdo04bAXeU-"
      },
      "outputs": [],
      "source": []
    },
    {
      "cell_type": "code",
      "execution_count": null,
      "metadata": {
        "colab": {
          "base_uri": "https://localhost:8080/"
        },
        "id": "uMDqE9Q2XeU-",
        "outputId": "8d982e77-ba80-4387-fb8f-e4e2dae86654"
      },
      "outputs": [
        {
          "data": {
            "text/plain": [
              "['support@example.com', 'sales@example.co.uk.', 'princekatiyar9393@gmail.com']"
            ]
          },
          "execution_count": 12,
          "metadata": {},
          "output_type": "execute_result"
        }
      ],
      "source": [
        "text = \"Please contact us at support@example.com or sales@example.co.uk. or  princekatiyar9393@gmail.com\"\n",
        "email_pattern = r\"[a-zA-Z0-9_.+-]+@[a-zA-Z0-9-]+\\.[a-zA-Z0-9-.]+\"\n",
        "email=re.findall(email_pattern,text)\n",
        "email\n"
      ]
    },
    {
      "cell_type": "code",
      "execution_count": null,
      "metadata": {
        "id": "hvpZiGofXeU-"
      },
      "outputs": [],
      "source": []
    },
    {
      "cell_type": "markdown",
      "metadata": {
        "id": "r60zhFdoXeU_"
      },
      "source": []
    },
    {
      "cell_type": "markdown",
      "metadata": {
        "id": "l9ASf8kVXeU_"
      },
      "source": [
        "# 5.2 Replacing All Digits with a Character"
      ]
    },
    {
      "cell_type": "code",
      "execution_count": null,
      "metadata": {
        "id": "fUa1I2sTXeU_"
      },
      "outputs": [],
      "source": []
    },
    {
      "cell_type": "code",
      "execution_count": null,
      "metadata": {
        "colab": {
          "base_uri": "https://localhost:8080/",
          "height": 35
        },
        "id": "gwuDDlO8XeU_",
        "outputId": "9ea39c8c-1c13-41f4-b68f-0658775838a0"
      },
      "outputs": [
        {
          "data": {
            "application/vnd.google.colaboratory.intrinsic+json": {
              "type": "string"
            },
            "text/plain": [
              "'**-*-*** this is my phone enumber '"
            ]
          },
          "execution_count": 13,
          "metadata": {},
          "output_type": "execute_result"
        }
      ],
      "source": [
        "number = \"23-2-943 this is my phone enumber \"\n",
        "re.sub(r\"\\d\",\"*\",number)\n"
      ]
    },
    {
      "cell_type": "markdown",
      "metadata": {
        "id": "uiwDkL4LXeU_"
      },
      "source": []
    },
    {
      "cell_type": "markdown",
      "metadata": {
        "id": "BYvmhOU4XeVA"
      },
      "source": [
        "# 5.3 Splitting a String by Multiple Delimiters"
      ]
    },
    {
      "cell_type": "markdown",
      "metadata": {
        "id": "q9nxGdxAXeVA"
      },
      "source": []
    },
    {
      "cell_type": "code",
      "execution_count": null,
      "metadata": {
        "colab": {
          "base_uri": "https://localhost:8080/"
        },
        "id": "RZaS1_XMXeVA",
        "outputId": "73dd1ade-2e56-46f0-a108-1580f5d65b48"
      },
      "outputs": [
        {
          "data": {
            "text/plain": [
              "['apple', ' orange', ' banana', 'grape']"
            ]
          },
          "execution_count": 14,
          "metadata": {},
          "output_type": "execute_result"
        }
      ],
      "source": [
        "\n",
        "text = \"apple, orange; banana|grape\"\n",
        "split_pattern = r\"[,;|]\"\n",
        "fruits = re.split(split_pattern, text )\n",
        "fruits"
      ]
    },
    {
      "cell_type": "code",
      "execution_count": null,
      "metadata": {
        "id": "QfiSGpWzXeVA"
      },
      "outputs": [],
      "source": []
    },
    {
      "cell_type": "code",
      "execution_count": null,
      "metadata": {
        "id": "GV6TK66wb7H9"
      },
      "outputs": [],
      "source": []
    },
    {
      "cell_type": "markdown",
      "metadata": {
        "id": "WwVsWA6Ub8H6"
      },
      "source": [
        "**Problem: NLP Text Cleaning and Extraction**\n",
        "\n",
        "You are tasked with cleaning a text dataset to prepare it for NLP tasks. Your goal is to:\n",
        "\n",
        "Extract all email addresses from the text.\n",
        "Remove all numbers (to prevent numeric features from skewing the NLP analysis).\n",
        "Extract all hashtags (for sentiment analysis and trending topics).\n",
        "Normalize whitespace to ensure there's no extra spaces between words.\n",
        "Remove any HTML tags that may be included in the text (from web scraping)."
      ]
    },
    {
      "cell_type": "code",
      "execution_count": null,
      "metadata": {
        "colab": {
          "base_uri": "https://localhost:8080/"
        },
        "id": "O9rY9-sTXeVB",
        "outputId": "9b0d8225-3422-4930-9765-82ed19575efa"
      },
      "outputs": [
        {
          "name": "stdout",
          "output_type": "stream",
          "text": [
            "Emails Found: ['info@example.com', 'support123@company.org']\n",
            "Hashtags Found: ['#AI', '#MachineLearning']\n",
            "Cleaned Text: Hello world! Contact us at info@example.com or support@company.org. Follow us on social media: #AI #MachineLearning. Visit our website for more details. This is a test with number .\n"
          ]
        }
      ],
      "source": [
        "import re\n",
        "\n",
        "def clean_text(text):\n",
        "    # Step 1: Extract all email addresses\n",
        "    emails = re.findall(r'[a-zA-Z0-9._%+-]+@[a-zA-Z0-9.-]+\\.[a-zA-Z]{2,}', text)\n",
        "\n",
        "\n",
        "\n",
        "    # Step 2: Extract all hashtags\n",
        "    hashtags = re.findall(r'#\\w+', text)\n",
        "     # Step 3: Remove all numbers\n",
        "    text_no_numbers = re.sub(r'\\d+', '', text)\n",
        "\n",
        "    # Step 4: Normalize whitespace (remove extra spaces)\n",
        "    text_normalized = re.sub(r'\\s+', ' ', text_no_numbers).strip()\n",
        "\n",
        "    # Step 5: Remove any HTML tags\n",
        "    text_no_html = re.sub(r'<.*?>', '', text_normalized)\n",
        "\n",
        "    return {\n",
        "        \"emails\": emails,\n",
        "        \"hashtags\": hashtags,\n",
        "        \"clean_text\": text_no_html\n",
        "    }\n",
        "\n",
        "# Test case\n",
        "text = \"\"\"\n",
        "Hello world! Contact us at info@example.com or support123@company.org. Follow us on social media: #AI #MachineLearning.\n",
        "Visit <a href=\"http://example.com\">our website</a> for more details. This is a test with number 1234.\n",
        "\"\"\"\n",
        "\n",
        "result = clean_text(text)\n",
        "print(\"Emails Found:\", result['emails'])          # Output: ['info@example.com', 'support123@company.org']\n",
        "print(\"Hashtags Found:\", result['hashtags'])      # Output: ['#AI', '#MachineLearning']\n",
        "print(\"Cleaned Text:\", result['clean_text'])      # Output: \"Hello world! Contact us at or Follow us on social media: AI MachineLearning. Visit our website for more details. This is a test with number.\"\n"
      ]
    },
    {
      "cell_type": "markdown",
      "metadata": {
        "id": "Lo1RafyAscrX"
      },
      "source": [
        "# text extraction in required format"
      ]
    },
    {
      "cell_type": "code",
      "execution_count": null,
      "metadata": {
        "colab": {
          "base_uri": "https://localhost:8080/"
        },
        "id": "-gID1evIxQ_A",
        "outputId": "a01b3432-86b8-4226-bd1d-179bd4f671e6"
      },
      "outputs": [
        {
          "name": "stdout",
          "output_type": "stream",
          "text": [
            "Extracted Emails:\n",
            "['john.doe@example.com', 'johnny.d@example.org', 'jane_smith@sample.net']\n",
            "\n",
            "Extracted Phone Numbers:\n",
            "['(123) 456-7890', '987-654-3210']\n",
            "\n",
            "Extracted Dates:\n",
            "['12/01/2025', '01-15-2025']\n",
            "\n",
            "Word Frequency Analysis:\n",
            "[('is', 3), ('john', 2), ('doe', 2), ('example', 2), ('scheduled', 2), ('meeting', 2), ('on', 2), ('01', 2), ('2025', 2), ('at', 2)]\n"
          ]
        }
      ],
      "source": [
        "import re\n",
        "from collections import Counter\n",
        "\n",
        "# Sample text\n",
        "text = \"\"\"\n",
        "John Doe (john.doe@example.com) has scheduled a meeting on 12/01/2025 at 3:00 PM.\n",
        "For inquiries, contact him at (123) 456-7890 or via his alternate email: johnny.d@example.org.\n",
        "Another meeting is scheduled on 01-15-2025. Jane's email is jane_smith@sample.net, and her phone is 987-654-3210.\n",
        "\"\"\"\n",
        "\n",
        "# Define regular expression patterns\n",
        "email_pattern = r\"[a-zA-Z0-9._%+-]+@[a-zA-Z0-9.-]+\\.[a-zA-Z]{2,}\"\n",
        "phone_pattern = r\"\\(?\\d{3}\\)?[-.\\s]?\\d{3}[-.\\s]?\\d{4}\"\n",
        "date_pattern = r\"\\b\\d{1,2}[-/]\\d{1,2}[-/]\\d{2,4}\\b\"\n",
        "\n",
        "# Extract entities using regular expressions\n",
        "emails = re.findall(email_pattern, text)\n",
        "phone_numbers = re.findall(phone_pattern, text)\n",
        "dates = re.findall(date_pattern, text)\n",
        "\n",
        "# Analyze text: word frequency (NLP preprocessing step)\n",
        "words = re.findall(r\"\\b\\w+\\b\", text.lower())  # Tokenize text into words\n",
        "word_freq = Counter(words)  # Get word frequencies\n",
        "\n",
        "# Output the results\n",
        "print(\"Extracted Emails:\")\n",
        "print(emails)\n",
        "\n",
        "print(\"\\nExtracted Phone Numbers:\")\n",
        "print(phone_numbers)\n",
        "\n",
        "print(\"\\nExtracted Dates:\")\n",
        "print(dates)\n",
        "\n",
        "print(\"\\nWord Frequency Analysis:\")\n",
        "print(word_freq.most_common(10))  # Show top 10 frequent words\n"
      ]
    },
    {
      "cell_type": "code",
      "execution_count": null,
      "metadata": {
        "id": "fDtTqcMUslNq"
      },
      "outputs": [],
      "source": []
    }
  ],
  "metadata": {
    "colab": {
      "provenance": []
    },
    "kernelspec": {
      "display_name": "bike",
      "language": "python",
      "name": "python3"
    },
    "language_info": {
      "codemirror_mode": {
        "name": "ipython",
        "version": 3
      },
      "file_extension": ".py",
      "mimetype": "text/x-python",
      "name": "python",
      "nbconvert_exporter": "python",
      "pygments_lexer": "ipython3",
      "version": "3.10.16"
    }
  },
  "nbformat": 4,
  "nbformat_minor": 0
}
