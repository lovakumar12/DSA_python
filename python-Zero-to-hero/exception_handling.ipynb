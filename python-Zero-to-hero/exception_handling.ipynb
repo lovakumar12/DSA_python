{
 "cells": [
  {
   "cell_type": "markdown",
   "metadata": {},
   "source": [
    "\n",
    "The key components of exception handling in Python are:\n",
    "\n",
    "# try: Encloses code that might raise an exception.\n",
    "\n",
    "# except: Catches and handles exceptions.\n",
    "\n",
    "# else: Executes if no exceptions occur.\n",
    "\n",
    "# finally: Executes regardless of whether an exception occurred.\n",
    "\n",
    "# raise: Manually raises exceptions."
   ]
  },
  {
   "cell_type": "code",
   "execution_count": null,
   "metadata": {},
   "outputs": [],
   "source": [
    "try:\n",
    "    # Code that may raise an exception\n",
    "    risky_code()\n",
    "except ExceptionType1 as e:\n",
    "    # Handle ExceptionType1\n",
    "    handle_exception1(e)\n",
    "except ExceptionType2 as e:\n",
    "    # Handle ExceptionType2\n",
    "    handle_exception2(e)\n",
    "else:\n",
    "    # Executes if no exception occurs in the try block\n",
    "    code_if_no_exception()\n",
    "finally:\n",
    "    # Always executes, regardless of whether an exception occurred or not\n",
    "    cleanup_code()"
   ]
  },
  {
   "cell_type": "code",
   "execution_count": null,
   "metadata": {},
   "outputs": [],
   "source": []
  },
  {
   "cell_type": "code",
   "execution_count": null,
   "metadata": {},
   "outputs": [],
   "source": []
  }
 ],
 "metadata": {
  "kernelspec": {
   "display_name": "bike",
   "language": "python",
   "name": "python3"
  },
  "language_info": {
   "name": "python",
   "version": "3.10.16"
  }
 },
 "nbformat": 4,
 "nbformat_minor": 2
}
