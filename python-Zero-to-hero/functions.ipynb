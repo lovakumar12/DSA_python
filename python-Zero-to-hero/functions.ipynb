{
 "cells": [
  {
   "cell_type": "markdown",
   "metadata": {},
   "source": [
    "### reusable block of code for a specific task u can call it as function"
   ]
  },
  {
   "cell_type": "code",
   "execution_count": 1,
   "metadata": {},
   "outputs": [
    {
     "data": {
      "text/plain": [
       "13"
      ]
     },
     "execution_count": 1,
     "metadata": {},
     "output_type": "execute_result"
    }
   ],
   "source": [
    "def add(x,y):  #####here x,y are parameters ## given naming to values\n",
    "    return x+y\n",
    "\n",
    "x=5               ##5 & 8 are arguents means the values which are operated\n",
    "y=8\n",
    "add(x,y)"
   ]
  },
  {
   "cell_type": "markdown",
   "metadata": {},
   "source": [
    "### types of arguments"
   ]
  },
  {
   "cell_type": "code",
   "execution_count": 4,
   "metadata": {},
   "outputs": [
    {
     "data": {
      "text/plain": [
       "41"
      ]
     },
     "execution_count": 4,
     "metadata": {},
     "output_type": "execute_result"
    }
   ],
   "source": [
    "def add(*args):\n",
    "    return x+y+z\n",
    "x=5\n",
    "y=6  \n",
    "z=30   \n",
    "add(x)"
   ]
  },
  {
   "cell_type": "code",
   "execution_count": 1,
   "metadata": {},
   "outputs": [
    {
     "data": {
      "text/plain": [
       "13"
      ]
     },
     "execution_count": 1,
     "metadata": {},
     "output_type": "execute_result"
    }
   ],
   "source": [
    "def add(*argsj):\n",
    "    return a+b \n",
    "a=6\n",
    "b=7\n",
    "add(a,b)"
   ]
  },
  {
   "cell_type": "code",
   "execution_count": 9,
   "metadata": {},
   "outputs": [
    {
     "data": {
      "text/plain": [
       "[2, 3, 4, 5, 2, 5, 6]"
      ]
     },
     "execution_count": 9,
     "metadata": {},
     "output_type": "execute_result"
    }
   ],
   "source": [
    "def add(*args):\n",
    "    return x+y\n",
    "x=[2,3,4,5]\n",
    "y=[2,5,6]  \n",
    "  \n",
    "add(x+y)"
   ]
  },
  {
   "cell_type": "code",
   "execution_count": 10,
   "metadata": {},
   "outputs": [
    {
     "data": {
      "text/plain": [
       "[2, 3, 4, 5, 2, 5, 6]"
      ]
     },
     "execution_count": 10,
     "metadata": {},
     "output_type": "execute_result"
    }
   ],
   "source": [
    "def add(*args):\n",
    "    return x+y\n",
    "x=[2,3,4,5]\n",
    "y=[2,5,6]  \n",
    "  \n",
    "add(x+y)"
   ]
  },
  {
   "cell_type": "code",
   "execution_count": 4,
   "metadata": {},
   "outputs": [
    {
     "data": {
      "text/plain": [
       "(1, 2, 3, 4, 3, 4, 2, 6)"
      ]
     },
     "execution_count": 4,
     "metadata": {},
     "output_type": "execute_result"
    }
   ],
   "source": [
    "def tuple_add(*args):\n",
    "    return x+y\n",
    "x=(1,2,3,4)\n",
    "y=(3,4,2,6)\n",
    "tuple_add(x+y)"
   ]
  },
  {
   "cell_type": "code",
   "execution_count": 6,
   "metadata": {},
   "outputs": [
    {
     "data": {
      "text/plain": [
       "(1, 2, 3, 4, 1, 2, 3, 4)"
      ]
     },
     "execution_count": 6,
     "metadata": {},
     "output_type": "execute_result"
    }
   ],
   "source": [
    "x*2"
   ]
  },
  {
   "cell_type": "markdown",
   "metadata": {},
   "source": [
    "### a. Positional Arguments\n",
    "These arguments are passed to functions based on their position. The order of\n",
    "arguments matters.\n"
   ]
  },
  {
   "cell_type": "code",
   "execution_count": 11,
   "metadata": {},
   "outputs": [
    {
     "name": "stdout",
     "output_type": "stream",
     "text": [
      "5\n"
     ]
    }
   ],
   "source": [
    "\n",
    "def subtract(a, b):\n",
    " return a - b\n",
    "print(subtract(10, 5))"
   ]
  },
  {
   "cell_type": "code",
   "execution_count": 7,
   "metadata": {},
   "outputs": [
    {
     "name": "stdout",
     "output_type": "stream",
     "text": [
      "age is 23\n",
      "neme is lova\n"
     ]
    }
   ],
   "source": [
    "def fun(age,name):\n",
    "    print(\"age is\",age)\n",
    "    print(\"neme is\",name)\n",
    "    \n",
    "fun(23,\"lova\")"
   ]
  },
  {
   "cell_type": "code",
   "execution_count": 15,
   "metadata": {},
   "outputs": [
    {
     "data": {
      "text/plain": [
       "0.6666666666666666"
      ]
     },
     "execution_count": 15,
     "metadata": {},
     "output_type": "execute_result"
    }
   ],
   "source": [
    "def division(a,b):\n",
    "    return a/b\n",
    "ab=4\n",
    "bc=6\n",
    "division(ab,bc)\n"
   ]
  },
  {
   "cell_type": "markdown",
   "metadata": {},
   "source": [
    "### b. Keyword Arguments\n",
    "These arguments are passed by explicitly naming each parameter and providing a\n",
    "value. The order of these arguments does not matter.\n"
   ]
  },
  {
   "cell_type": "code",
   "execution_count": 1,
   "metadata": {},
   "outputs": [],
   "source": [
    "\n",
    "def greet(name, message):\n",
    " print(f\"{message}, {name}!\")"
   ]
  },
  {
   "cell_type": "code",
   "execution_count": 3,
   "metadata": {},
   "outputs": [],
   "source": [
    "\n",
    "def greet1(name, message):\n",
    " print(f\"{name}, {message}!\")"
   ]
  },
  {
   "cell_type": "code",
   "execution_count": 2,
   "metadata": {},
   "outputs": [
    {
     "name": "stdout",
     "output_type": "stream",
     "text": [
      "good morning, lova!\n"
     ]
    }
   ],
   "source": [
    "greet(name=\"lova\",message=\"good morning\")"
   ]
  },
  {
   "cell_type": "code",
   "execution_count": 4,
   "metadata": {},
   "outputs": [
    {
     "ename": "TypeError",
     "evalue": "greet1() got an unexpected keyword argument 'mess'",
     "output_type": "error",
     "traceback": [
      "\u001b[1;31m---------------------------------------------------------------------------\u001b[0m",
      "\u001b[1;31mTypeError\u001b[0m                                 Traceback (most recent call last)",
      "Cell \u001b[1;32mIn[4], line 1\u001b[0m\n\u001b[1;32m----> 1\u001b[0m \u001b[43mgreet1\u001b[49m\u001b[43m(\u001b[49m\u001b[43mmess\u001b[49m\u001b[38;5;241;43m=\u001b[39;49m\u001b[38;5;124;43m\"\u001b[39;49m\u001b[38;5;124;43mGood morning\u001b[39;49m\u001b[38;5;124;43m\"\u001b[39;49m\u001b[43m,\u001b[49m\u001b[43m \u001b[49m\u001b[43mnam\u001b[49m\u001b[38;5;241;43m=\u001b[39;49m\u001b[38;5;124;43m\"\u001b[39;49m\u001b[38;5;124;43mprinc\u001b[39;49m\u001b[38;5;124;43m\"\u001b[39;49m\u001b[43m)\u001b[49m \u001b[38;5;66;03m# Output: Good morning, Bob!\u001b[39;00m\n",
      "\u001b[1;31mTypeError\u001b[0m: greet1() got an unexpected keyword argument 'mess'"
     ]
    }
   ],
   "source": [
    "greet1(mess=\"Good morning\", nam=\"princ\") # Output: Good morning, Bob!\n"
   ]
  },
  {
   "cell_type": "markdown",
   "metadata": {},
   "source": [
    "### c. Default Arguments\n",
    "These arguments have default values defined in the function. If the caller does not\n",
    "provide a value, the default is used.\n"
   ]
  },
  {
   "cell_type": "code",
   "execution_count": 15,
   "metadata": {},
   "outputs": [
    {
     "name": "stdout",
     "output_type": "stream",
     "text": [
      "Hello, Guest!\n",
      "Hello, Alice!\n"
     ]
    }
   ],
   "source": [
    "\n",
    "def greet(name=\"Guest\"):\n",
    " print(f\"Hello, {name}!\")\n",
    "greet() # Output: Hello, Guest!\n",
    "greet(\"Alice\") "
   ]
  },
  {
   "cell_type": "code",
   "execution_count": 11,
   "metadata": {},
   "outputs": [
    {
     "name": "stdout",
     "output_type": "stream",
     "text": [
      "hey lova good night\n"
     ]
    }
   ],
   "source": [
    "def hey(name=\"lova\",message=\"good night\"):\n",
    "    print(f\"hey {name} {message}\")\n",
    "\n",
    "hey()"
   ]
  },
  {
   "cell_type": "markdown",
   "metadata": {},
   "source": [
    "### default arguments are dominated by if we pass the parameters function take that one only"
   ]
  },
  {
   "cell_type": "code",
   "execution_count": null,
   "metadata": {},
   "outputs": [
    {
     "name": "stdout",
     "output_type": "stream",
     "text": [
      "hey rishi good morning\n"
     ]
    }
   ],
   "source": [
    "def hey(name=\"lova\",message=\"good night\"):\n",
    "    print(f\"hey {name} {message}\")\n",
    "name='rishi'\n",
    "message='good morning'\n",
    "hey(name,message)"
   ]
  },
  {
   "cell_type": "code",
   "execution_count": 23,
   "metadata": {},
   "outputs": [
    {
     "name": "stdout",
     "output_type": "stream",
     "text": [
      "hey rishi1 good morning1\n"
     ]
    }
   ],
   "source": [
    "def hey(name=\"lova\",message=\"good night\"):\n",
    "    print(f\"hey {name} {message}\")\n",
    "nam='rishi1'\n",
    "messa='good morning1'\n",
    "hey(nam,messa)"
   ]
  },
  {
   "cell_type": "markdown",
   "metadata": {},
   "source": [
    "### d. Variable-Length Arguments\n",
    "These arguments allow you to pass a variable number of arguments to a function.\n",
    "They are used with *args for positional arguments and **kwargs for keyword\n",
    "arguments."
   ]
  },
  {
   "cell_type": "code",
   "execution_count": null,
   "metadata": {},
   "outputs": [],
   "source": [
    "\n",
    "def add(*numbers):\n",
    " return sum(numbers)\n",
    "print(add(1, 2, 3, 4)) "
   ]
  },
  {
   "cell_type": "code",
   "execution_count": null,
   "metadata": {},
   "outputs": [
    {
     "data": {
      "text/plain": [
       "[2, 3, 4, 5, 2, 5, 6]"
      ]
     },
     "execution_count": 16,
     "metadata": {},
     "output_type": "execute_result"
    }
   ],
   "source": [
    "def add(*args):\n",
    "    return x+y\n",
    "x=[2,3,4,5]\n",
    "y=[2,5,6]  \n",
    "  \n",
    "add(x+y)"
   ]
  },
  {
   "cell_type": "code",
   "execution_count": 1,
   "metadata": {},
   "outputs": [
    {
     "ename": "NameError",
     "evalue": "name 'z' is not defined",
     "output_type": "error",
     "traceback": [
      "\u001b[1;31m---------------------------------------------------------------------------\u001b[0m",
      "\u001b[1;31mNameError\u001b[0m                                 Traceback (most recent call last)",
      "Cell \u001b[1;32mIn[1], line 6\u001b[0m\n\u001b[0;32m      3\u001b[0m x\u001b[38;5;241m=\u001b[39m[\u001b[38;5;241m2\u001b[39m,\u001b[38;5;241m3\u001b[39m,\u001b[38;5;241m4\u001b[39m,\u001b[38;5;241m5\u001b[39m]\n\u001b[0;32m      4\u001b[0m y\u001b[38;5;241m=\u001b[39m[\u001b[38;5;241m2\u001b[39m,\u001b[38;5;241m5\u001b[39m,\u001b[38;5;241m6\u001b[39m]  \n\u001b[1;32m----> 6\u001b[0m \u001b[43madd\u001b[49m\u001b[43m(\u001b[49m\u001b[43mx\u001b[49m\u001b[38;5;241;43m+\u001b[39;49m\u001b[43my\u001b[49m\u001b[43m)\u001b[49m\n",
      "Cell \u001b[1;32mIn[1], line 2\u001b[0m, in \u001b[0;36madd\u001b[1;34m(*args)\u001b[0m\n\u001b[0;32m      1\u001b[0m \u001b[38;5;28;01mdef\u001b[39;00m \u001b[38;5;21madd\u001b[39m(\u001b[38;5;241m*\u001b[39margs):\n\u001b[1;32m----> 2\u001b[0m     \u001b[38;5;28;01mreturn\u001b[39;00m x\u001b[38;5;241m+\u001b[39my\u001b[38;5;241m+\u001b[39m\u001b[43mz\u001b[49m\n",
      "\u001b[1;31mNameError\u001b[0m: name 'z' is not defined"
     ]
    }
   ],
   "source": [
    "def add(*args):\n",
    "    return x+y+z\n",
    "x=[2,3,4,5]\n",
    "y=[2,5,6]  \n",
    "  \n",
    "add(x+y)"
   ]
  },
  {
   "cell_type": "code",
   "execution_count": 2,
   "metadata": {},
   "outputs": [
    {
     "data": {
      "text/plain": [
       "[2, 3, 4, 5, 2, 5, 6]"
      ]
     },
     "execution_count": 2,
     "metadata": {},
     "output_type": "execute_result"
    }
   ],
   "source": [
    "def add(*args):\n",
    "    return x+y\n",
    "x=[2,3,4,5]\n",
    "y=[2,5,6]  \n",
    "z=[2,3,4,5]\n",
    "  \n",
    "add(x+y+z)"
   ]
  },
  {
   "cell_type": "code",
   "execution_count": 18,
   "metadata": {},
   "outputs": [
    {
     "data": {
      "text/plain": [
       "'hello world is  people use to  introduce the languages'"
      ]
     },
     "execution_count": 18,
     "metadata": {},
     "output_type": "execute_result"
    }
   ],
   "source": [
    "############strings  ##############\n",
    "\n",
    "def strn(*a):\n",
    "    return \" \".join(a)\n",
    "\n",
    "strn(\"hello\",\"world\",\"is \",\"people\",\"use\",\"to \",\"introduce the\",\"languages\")\n",
    "\n"
   ]
  },
  {
   "cell_type": "markdown",
   "metadata": {},
   "source": [
    "## **kwags"
   ]
  },
  {
   "cell_type": "code",
   "execution_count": null,
   "metadata": {},
   "outputs": [
    {
     "name": "stdout",
     "output_type": "stream",
     "text": [
      "name:lova\n",
      "age:34\n",
      "livein:Hyderabad\n",
      "name1:prince\n"
     ]
    }
   ],
   "source": [
    "def info(**kw):\n",
    "    for k,v in kw.items():\n",
    "        print(f\"{k}:{v}\")\n",
    "        \n",
    "info(name=\"lova\" ,age=34,livein='Hyderabad',name1='prince') ##it donot allow same key names"
   ]
  },
  {
   "cell_type": "code",
   "execution_count": 4,
   "metadata": {},
   "outputs": [
    {
     "ename": "NameError",
     "evalue": "name 'name' is not defined",
     "output_type": "error",
     "traceback": [
      "\u001b[1;31m---------------------------------------------------------------------------\u001b[0m",
      "\u001b[1;31mNameError\u001b[0m                                 Traceback (most recent call last)",
      "Cell \u001b[1;32mIn[4], line 4\u001b[0m\n\u001b[0;32m      2\u001b[0m     \u001b[38;5;28;01mfor\u001b[39;00m k,v \u001b[38;5;129;01min\u001b[39;00m kw\u001b[38;5;241m.\u001b[39mitems():\n\u001b[0;32m      3\u001b[0m         \u001b[38;5;28mprint\u001b[39m(\u001b[38;5;124mf\u001b[39m\u001b[38;5;124m\"\u001b[39m\u001b[38;5;132;01m{\u001b[39;00mk\u001b[38;5;132;01m}\u001b[39;00m\u001b[38;5;124m:\u001b[39m\u001b[38;5;132;01m{\u001b[39;00mv\u001b[38;5;132;01m}\u001b[39;00m\u001b[38;5;124m\"\u001b[39m)\n\u001b[1;32m----> 4\u001b[0m d\u001b[38;5;241m=\u001b[39m {\u001b[43mname\u001b[49m:\u001b[38;5;124m\"\u001b[39m\u001b[38;5;124mlova\u001b[39m\u001b[38;5;124m\"\u001b[39m ,age:\u001b[38;5;241m34\u001b[39m}  \u001b[38;5;66;03m######so under stand one thing key and values sending into **kw only possible   \u001b[39;00m\n\u001b[0;32m      5\u001b[0m info(d)\n",
      "\u001b[1;31mNameError\u001b[0m: name 'name' is not defined"
     ]
    }
   ],
   "source": [
    "def info(**kw):\n",
    "    for k,v in kw.items():\n",
    "        print(f\"{k}:{v}\")\n",
    "d= {name:\"lova\" ,age:34}  ######so under stand one thing key and values sending into **kw only possible   \n",
    "info(d)"
   ]
  },
  {
   "cell_type": "code",
   "execution_count": 27,
   "metadata": {},
   "outputs": [
    {
     "name": "stdout",
     "output_type": "stream",
     "text": [
      "name:lova\n",
      "age:34\n"
     ]
    }
   ],
   "source": [
    "def info(kw):\n",
    "    for k,v in kw.items():\n",
    "        print(f\"{k}:{v}\")\n",
    "d= {\"name\":\"lova\" ,\"age\":34}  ######so under stand one thing key and values sending into **kw only possible   \n",
    "info(d)"
   ]
  },
  {
   "cell_type": "markdown",
   "metadata": {},
   "source": [
    "### why (*args) one star because * parameters\n",
    "### why (**kwargs)  two star because * for key and * for value"
   ]
  },
  {
   "cell_type": "code",
   "execution_count": null,
   "metadata": {},
   "outputs": [],
   "source": []
  },
  {
   "cell_type": "markdown",
   "metadata": {},
   "source": [
    "### print  vs return"
   ]
  },
  {
   "attachments": {
    "image.png": {
     "image/png": "[encoded data removed]"
    }
   },
   "cell_type": "markdown",
   "metadata": {},
   "source": [
    "![image.png](attachment:image.png)"
   ]
  },
  {
   "cell_type": "code",
   "execution_count": 8,
   "metadata": {},
   "outputs": [
    {
     "name": "stdout",
     "output_type": "stream",
     "text": [
      "this is python class\n",
      "None\n"
     ]
    }
   ],
   "source": [
    "def fun():\n",
    "    print(\"this is python class\")\n",
    "    \n",
    "f1=fun()\n",
    "print(f1)### see here it returns the None"
   ]
  },
  {
   "cell_type": "code",
   "execution_count": 31,
   "metadata": {},
   "outputs": [
    {
     "name": "stdout",
     "output_type": "stream",
     "text": [
      "this is python class\n"
     ]
    }
   ],
   "source": [
    "def fun():\n",
    "    return \"this is python class\"\n",
    "    \n",
    "f1=fun()\n",
    "print(f1)\n"
   ]
  },
  {
   "cell_type": "code",
   "execution_count": null,
   "metadata": {},
   "outputs": [
    {
     "name": "stdout",
     "output_type": "stream",
     "text": [
      "4\n",
      "None\n",
      "<class 'NoneType'>\n"
     ]
    }
   ],
   "source": [
    "def fun(a):###########how print prints the int\n",
    "    print(a)\n",
    "a=4   \n",
    "f1=fun(a)\n",
    "print(f1)## it is like print(print(4)) so it prints the 4 and None\n",
    "print(type(f1))"
   ]
  },
  {
   "cell_type": "code",
   "execution_count": 34,
   "metadata": {},
   "outputs": [
    {
     "name": "stdout",
     "output_type": "stream",
     "text": [
      "4\n",
      "<class 'int'>\n"
     ]
    }
   ],
   "source": [
    "def fun(a):###########how print prints the int\n",
    "    return(a)\n",
    "a=4   \n",
    "f1=fun(a)           ###### data type  in print()not returned\n",
    "print(f1)\n",
    "print(type(f1))"
   ]
  },
  {
   "cell_type": "code",
   "execution_count": null,
   "metadata": {},
   "outputs": [
    {
     "data": {
      "text/plain": [
       "4"
      ]
     },
     "execution_count": 9,
     "metadata": {},
     "output_type": "execute_result"
    }
   ],
   "source": [
    "def fun(a):\n",
    "    return a\n",
    "    print(\"hello\") ## seee here it is not printing the hello because return is the last statement in the function\n",
    "a=4                 ##return donot allow to print the statements after it\n",
    "fun(a)"
   ]
  },
  {
   "cell_type": "code",
   "execution_count": null,
   "metadata": {},
   "outputs": [
    {
     "name": "stdout",
     "output_type": "stream",
     "text": [
      "hello\n"
     ]
    },
    {
     "data": {
      "text/plain": [
       "4"
      ]
     },
     "execution_count": 11,
     "metadata": {},
     "output_type": "execute_result"
    }
   ],
   "source": [
    "def fun1(a):\n",
    "    print(\"hello\")\n",
    "    return a\n",
    "    print(\"hi\") ## seee here it is not printing the hello because return is the last statement in the function\n",
    "a=4\n",
    "fun1(a)"
   ]
  },
  {
   "cell_type": "code",
   "execution_count": 13,
   "metadata": {},
   "outputs": [
    {
     "data": {
      "text/plain": [
       "('hello', 'hey', 'how are you')"
      ]
     },
     "execution_count": 13,
     "metadata": {},
     "output_type": "execute_result"
    }
   ],
   "source": [
    "def fun2():\n",
    "    return \"hello\" ,\"hey\" ,\"how are you\"\n",
    "fun2()"
   ]
  },
  {
   "cell_type": "markdown",
   "metadata": {},
   "source": [
    "### 1. Local Scope\n",
    "Definition Variables created inside a function belong to the local scope of\n",
    "that function. They can only be accessed inside that function.\n",
    "\n",
    "Example:: Variables defined inside a function.\n"
   ]
  },
  {
   "cell_type": "code",
   "execution_count": 35,
   "metadata": {},
   "outputs": [
    {
     "name": "stdout",
     "output_type": "stream",
     "text": [
      "10\n"
     ]
    }
   ],
   "source": [
    "def my_fun():\n",
    "    x=10 ## local variable\n",
    "    print(x)\n",
    "\n",
    "my_fun()"
   ]
  },
  {
   "cell_type": "markdown",
   "metadata": {},
   "source": [
    "### 2. Enclosing (Nonlocal) Scope\n",
    "Definition Variables in the enclosing scope refer to the scope of any\n",
    "enclosing functions for nested functions. These variables are not local to the\n",
    "inner function but are accessible within it.\n",
    "\n",
    "Example:: Variables from an outer function in nested functions.\n"
   ]
  },
  {
   "cell_type": "code",
   "execution_count": 36,
   "metadata": {},
   "outputs": [
    {
     "name": "stdout",
     "output_type": "stream",
     "text": [
      "inner 20\n",
      "outer 20\n"
     ]
    }
   ],
   "source": [
    "def outer_function():\n",
    "    x=10   ## enclosing variable\n",
    "    def inner_fun():\n",
    "        nonlocal x ##refer to the variable in the outer fun\n",
    "        x=20      ##### modifying the enclosing variable\n",
    "        print(\"inner\",x)\n",
    "    inner_fun()\n",
    "    print(\"outer\",x)\n",
    "\n",
    "outer_function()\n",
    "    \n",
    "\n",
    "    "
   ]
  },
  {
   "cell_type": "code",
   "execution_count": 1,
   "metadata": {},
   "outputs": [
    {
     "ename": "NameError",
     "evalue": "name 'y' is not defined",
     "output_type": "error",
     "traceback": [
      "\u001b[1;31m---------------------------------------------------------------------------\u001b[0m",
      "\u001b[1;31mNameError\u001b[0m                                 Traceback (most recent call last)",
      "Cell \u001b[1;32mIn[1], line 11\u001b[0m\n\u001b[0;32m      8\u001b[0m     inner_fun()\n\u001b[0;32m      9\u001b[0m     \u001b[38;5;66;03m#print(\"outer\",x)\u001b[39;00m\n\u001b[1;32m---> 11\u001b[0m outer_function()\n",
      "Cell \u001b[1;32mIn[1], line 3\u001b[0m, in \u001b[0;36mouter_function\u001b[1;34m()\u001b[0m\n\u001b[0;32m      1\u001b[0m \u001b[38;5;28;01mdef\u001b[39;00m \u001b[38;5;21mouter_function\u001b[39m():\n\u001b[0;32m      2\u001b[0m     x\u001b[38;5;241m=\u001b[39m\u001b[38;5;241m10\u001b[39m \u001b[38;5;66;03m## enclosing variable\u001b[39;00m\n\u001b[1;32m----> 3\u001b[0m     \u001b[38;5;28mprint\u001b[39m(y)\n\u001b[0;32m      4\u001b[0m     \u001b[38;5;28;01mdef\u001b[39;00m \u001b[38;5;21minner_fun\u001b[39m():\n\u001b[0;32m      6\u001b[0m         y\u001b[38;5;241m=\u001b[39m\u001b[38;5;241m20\u001b[39m      \u001b[38;5;66;03m##### modifying the enclosing variable\u001b[39;00m\n",
      "\u001b[1;31mNameError\u001b[0m: name 'y' is not defined"
     ]
    }
   ],
   "source": [
    "def outer_function():\n",
    "    x=10 ## enclosing variable\n",
    "    print(y)\n",
    "    def inner_fun():\n",
    "        \n",
    "        y=20      ##### modifying the enclosing variable\n",
    "        print(x)\n",
    "    inner_fun()\n",
    "    #print(\"outer\",x)\n",
    "\n",
    "outer_function()\n",
    "    "
   ]
  },
  {
   "cell_type": "code",
   "execution_count": 3,
   "metadata": {},
   "outputs": [
    {
     "name": "stdout",
     "output_type": "stream",
     "text": [
      "inner inner fun_y 0\n",
      "inner x 10\n",
      "inner y 20\n",
      "after inner fun 20\n"
     ]
    }
   ],
   "source": [
    "## make some correction for above code\n",
    "\n",
    "def outer_fun():\n",
    "    x=10\n",
    "    y=0\n",
    "    print(\"inner inner fun_y\",y)\n",
    "    def inner_fun():\n",
    "        nonlocal y\n",
    "        y=20\n",
    "        print(\"inner x\",x)\n",
    "        print(\"inner y\",y)\n",
    "    inner_fun()\n",
    "    print(\"after inner fun\",y)\n",
    "outer_fun()"
   ]
  },
  {
   "cell_type": "markdown",
   "metadata": {},
   "source": [
    "### 3. Global Scope\n",
    "Definition Variables defined at the top level of a script or module, outside of\n",
    "any function, belong to the global scope. These variables can be accessed\n",
    "throughout the code, including inside functions (unless shadowed by a local\n",
    "variable).\n",
    "\n",
    "Example: Global variables that can be accessed inside or outside of functions."
   ]
  },
  {
   "cell_type": "code",
   "execution_count": null,
   "metadata": {},
   "outputs": [
    {
     "name": "stdout",
     "output_type": "stream",
     "text": [
      "10\n"
     ]
    },
    {
     "ename": "UnboundLocalError",
     "evalue": "cannot access local variable 'y' where it is not associated with a value",
     "output_type": "error",
     "traceback": [
      "\u001b[1;31m---------------------------------------------------------------------------\u001b[0m",
      "\u001b[1;31mUnboundLocalError\u001b[0m                         Traceback (most recent call last)",
      "Cell \u001b[1;32mIn[6], line 8\u001b[0m\n\u001b[0;32m      6\u001b[0m     y \u001b[38;5;241m+\u001b[39m\u001b[38;5;241m=\u001b[39m\u001b[38;5;241m1\u001b[39m\n\u001b[0;32m      7\u001b[0m     \u001b[38;5;28mprint\u001b[39m(y)\n\u001b[1;32m----> 8\u001b[0m fun()\n",
      "Cell \u001b[1;32mIn[6], line 6\u001b[0m, in \u001b[0;36mfun\u001b[1;34m()\u001b[0m\n\u001b[0;32m      3\u001b[0m x\u001b[38;5;241m=\u001b[39m\u001b[38;5;241m10\u001b[39m\n\u001b[0;32m      5\u001b[0m \u001b[38;5;28mprint\u001b[39m(x)\n\u001b[1;32m----> 6\u001b[0m y \u001b[38;5;241m+\u001b[39m\u001b[38;5;241m=\u001b[39m\u001b[38;5;241m1\u001b[39m\n\u001b[0;32m      7\u001b[0m \u001b[38;5;28mprint\u001b[39m(y)\n",
      "\u001b[1;31mUnboundLocalError\u001b[0m: cannot access local variable 'y' where it is not associated with a value"
     ]
    }
   ],
   "source": [
    "y=20  ####### global variable\n",
    "def fun():\n",
    "    x=10\n",
    "    \n",
    "    print(x)\n",
    "    y +=1  \n",
    "    '''#### accesing is possibel (means for printing)\n",
    "       ###### not modifyabel\n",
    "\n",
    "           '''\n",
    "    print(y)\n",
    "fun()"
   ]
  },
  {
   "cell_type": "code",
   "execution_count": 7,
   "metadata": {},
   "outputs": [
    {
     "name": "stdout",
     "output_type": "stream",
     "text": [
      "10\n",
      "21\n"
     ]
    }
   ],
   "source": [
    "y=20  ####### global variable\n",
    "def fun():\n",
    "    x=10\n",
    "    \n",
    "    print(x)\n",
    "    global y\n",
    "    y +=1  \n",
    "    '''value is not accessing the  y for this operation\n",
    "    for printing y is not accesing then how to solve this is  by making y global\n",
    "    ## now we can access the y globally\n",
    "    ## we can operate also or modify also\n",
    "\n",
    "           '''\n",
    "    print(y)\n",
    "fun()"
   ]
  },
  {
   "cell_type": "code",
   "execution_count": 4,
   "metadata": {},
   "outputs": [
    {
     "name": "stdout",
     "output_type": "stream",
     "text": [
      "10\n",
      "20\n"
     ]
    }
   ],
   "source": [
    "y=20  ####### global variable\n",
    "def fun():\n",
    "    x=10\n",
    "    \n",
    "    print(x)\n",
    "    print(y)   ## here only access y  is possible\n",
    "fun()"
   ]
  },
  {
   "cell_type": "markdown",
   "metadata": {},
   "source": [
    "### 4. Built-in Scope\n",
    "Definition The built-in scope contains names that are pre-defined in Python,\n",
    "such as built-in functions ( print() , len() , etc.) and exceptions. These are\n",
    "always available and accessible from any part of the code.\n",
    "Example Built-in functions like len() and print() are always accessible."
   ]
  },
  {
   "cell_type": "code",
   "execution_count": 9,
   "metadata": {},
   "outputs": [
    {
     "name": "stdout",
     "output_type": "stream",
     "text": [
      "This is a built-in function.\n"
     ]
    }
   ],
   "source": [
    "def my_function():\n",
    " print(\"This is a built-in function.\") # Using a built-in\n",
    "\n",
    "my_function() # Output: This is a built-in function.\n"
   ]
  },
  {
   "cell_type": "markdown",
   "metadata": {},
   "source": [
    "### where and where have to use global & non local"
   ]
  },
  {
   "cell_type": "code",
   "execution_count": 10,
   "metadata": {},
   "outputs": [
    {
     "name": "stdout",
     "output_type": "stream",
     "text": [
      "10\n",
      "20\n"
     ]
    }
   ],
   "source": [
    "def my_fun1():\n",
    "    x=10\n",
    "    def my_fun():\n",
    "        y=20\n",
    "        print(x)\n",
    "        print(y)\n",
    "    my_fun()\n",
    "my_fun1()"
   ]
  },
  {
   "cell_type": "code",
   "execution_count": 11,
   "metadata": {},
   "outputs": [
    {
     "ename": "UnboundLocalError",
     "evalue": "cannot access local variable 'x' where it is not associated with a value",
     "output_type": "error",
     "traceback": [
      "\u001b[1;31m---------------------------------------------------------------------------\u001b[0m",
      "\u001b[1;31mUnboundLocalError\u001b[0m                         Traceback (most recent call last)",
      "Cell \u001b[1;32mIn[11], line 10\u001b[0m\n\u001b[0;32m      8\u001b[0m         \u001b[38;5;28mprint\u001b[39m(y)\n\u001b[0;32m      9\u001b[0m     my_fun()\n\u001b[1;32m---> 10\u001b[0m my_fun1()\n",
      "Cell \u001b[1;32mIn[11], line 9\u001b[0m, in \u001b[0;36mmy_fun1\u001b[1;34m()\u001b[0m\n\u001b[0;32m      7\u001b[0m     \u001b[38;5;28mprint\u001b[39m(x)\n\u001b[0;32m      8\u001b[0m     \u001b[38;5;28mprint\u001b[39m(y)\n\u001b[1;32m----> 9\u001b[0m my_fun()\n",
      "Cell \u001b[1;32mIn[11], line 6\u001b[0m, in \u001b[0;36mmy_fun1.<locals>.my_fun\u001b[1;34m()\u001b[0m\n\u001b[0;32m      4\u001b[0m \u001b[38;5;28;01mdef\u001b[39;00m \u001b[38;5;21mmy_fun\u001b[39m():\n\u001b[0;32m      5\u001b[0m     y\u001b[38;5;241m=\u001b[39m\u001b[38;5;241m90\u001b[39m\n\u001b[1;32m----> 6\u001b[0m     x\u001b[38;5;241m+\u001b[39m\u001b[38;5;241m=\u001b[39m\u001b[38;5;241m20\u001b[39m  \u001b[38;5;66;03m## try to modify\u001b[39;00m\n\u001b[0;32m      7\u001b[0m     \u001b[38;5;28mprint\u001b[39m(x)\n\u001b[0;32m      8\u001b[0m     \u001b[38;5;28mprint\u001b[39m(y)\n",
      "\u001b[1;31mUnboundLocalError\u001b[0m: cannot access local variable 'x' where it is not associated with a value"
     ]
    }
   ],
   "source": [
    "## if i do modifying \n",
    "def my_fun1():\n",
    "    x=10\n",
    "    def my_fun():\n",
    "        y=90\n",
    "        x+=20  ## try to modify\n",
    "        print(x)\n",
    "        print(y)\n",
    "    my_fun()\n",
    "my_fun1()"
   ]
  },
  {
   "cell_type": "code",
   "execution_count": 10,
   "metadata": {},
   "outputs": [
    {
     "ename": "NameError",
     "evalue": "name 'x' is not defined",
     "output_type": "error",
     "traceback": [
      "\u001b[1;31m---------------------------------------------------------------------------\u001b[0m",
      "\u001b[1;31mNameError\u001b[0m                                 Traceback (most recent call last)",
      "Cell \u001b[1;32mIn[10], line 13\u001b[0m\n\u001b[0;32m     11\u001b[0m         \u001b[38;5;28mprint\u001b[39m(y)\n\u001b[0;32m     12\u001b[0m     my_fun()\n\u001b[1;32m---> 13\u001b[0m my_fun1()\n",
      "Cell \u001b[1;32mIn[10], line 12\u001b[0m, in \u001b[0;36mmy_fun1\u001b[1;34m()\u001b[0m\n\u001b[0;32m     10\u001b[0m     \u001b[38;5;28mprint\u001b[39m(x)\n\u001b[0;32m     11\u001b[0m     \u001b[38;5;28mprint\u001b[39m(y)\n\u001b[1;32m---> 12\u001b[0m my_fun()\n",
      "Cell \u001b[1;32mIn[10], line 9\u001b[0m, in \u001b[0;36mmy_fun1.<locals>.my_fun\u001b[1;34m()\u001b[0m\n\u001b[0;32m      7\u001b[0m y\u001b[38;5;241m=\u001b[39m\u001b[38;5;241m90\u001b[39m\n\u001b[0;32m      8\u001b[0m \u001b[38;5;28;01mglobal\u001b[39;00m x \u001b[38;5;66;03m## by giving global\u001b[39;00m\n\u001b[1;32m----> 9\u001b[0m x \u001b[38;5;241m+\u001b[39m\u001b[38;5;241m=\u001b[39m\u001b[38;5;241m20\u001b[39m  \u001b[38;5;66;03m## try to modify\u001b[39;00m\n\u001b[0;32m     10\u001b[0m \u001b[38;5;28mprint\u001b[39m(x)\n\u001b[0;32m     11\u001b[0m \u001b[38;5;28mprint\u001b[39m(y)\n",
      "\u001b[1;31mNameError\u001b[0m: name 'x' is not defined"
     ]
    }
   ],
   "source": [
    "## if i do modifying (how to solve this) \n",
    "\n",
    "## is it by global ### let see\n",
    "def my_fun1():\n",
    "    x=10\n",
    "    def my_fun():\n",
    "        y=90\n",
    "        global x ## by giving global\n",
    "        x +=20  ## try to modify\n",
    "        print(x)\n",
    "        print(y)\n",
    "    my_fun()\n",
    "my_fun1()"
   ]
  },
  {
   "cell_type": "code",
   "execution_count": 9,
   "metadata": {},
   "outputs": [
    {
     "name": "stdout",
     "output_type": "stream",
     "text": [
      "30\n",
      "90\n"
     ]
    }
   ],
   "source": [
    "### so still error # \n",
    "##### then how to solve########### by using non loca\n",
    "def my_fun1():\n",
    "    x=10\n",
    "    \n",
    "    def my_fun():\n",
    "        y=90\n",
    "        nonlocal x ## by giving nonlocal\n",
    "        x +=20  ## try to modify\n",
    "        print(x)\n",
    "        print(y)\n",
    "    my_fun()\n",
    "my_fun1()\n"
   ]
  },
  {
   "cell_type": "markdown",
   "metadata": {},
   "source": [
    "### LEGB Rule Explained\n",
    "The LEGB rule dictates how Python looks for variable names:\n",
    "\n",
    "L Local) Python first looks for a variable in the local scope (inside the current\n",
    "function).\n",
    "\n",
    "E Enclosing) If not found, it looks in the enclosing scope (inside any\n",
    "enclosing functions, in case of nested functions).\n",
    "\n",
    "G Global) If still not found, it checks the global scope (outside the function\n",
    "but in the current module).\n",
    "\n",
    "B Built-in) Finally, it checks the built-in scope for Pythons built-in functions\n",
    "and constants.\n"
   ]
  },
  {
   "cell_type": "code",
   "execution_count": 13,
   "metadata": {},
   "outputs": [
    {
     "name": "stdout",
     "output_type": "stream",
     "text": [
      "90\n",
      "10\n"
     ]
    }
   ],
   "source": [
    "def outer_fun():  ###it followes the legb\n",
    "                   ## first print the local and then enclosing\n",
    "    x=10\n",
    "    def inner_fun():\n",
    "        x=90\n",
    "        print(x)\n",
    "    inner_fun()\n",
    "    print(x)\n",
    "outer_fun()"
   ]
  },
  {
   "cell_type": "code",
   "execution_count": 15,
   "metadata": {},
   "outputs": [
    {
     "name": "stdout",
     "output_type": "stream",
     "text": [
      "90\n",
      "10\n",
      "12\n"
     ]
    }
   ],
   "source": [
    "x=12   ## global\n",
    "def outer_fun():  ###it followes the legb\n",
    "                   ## first print the local and then enclosing\n",
    "                   ## then global\n",
    "    x=10   ## enclosing\n",
    "    def inner_fun():\n",
    "        x=90    ## local\n",
    "        print(x)\n",
    "    inner_fun()\n",
    "    print(x)\n",
    "outer_fun()\n",
    "print(x)"
   ]
  },
  {
   "cell_type": "code",
   "execution_count": 16,
   "metadata": {},
   "outputs": [
    {
     "name": "stdout",
     "output_type": "stream",
     "text": [
      "12\n",
      "12\n",
      "12\n"
     ]
    }
   ],
   "source": [
    "########## if no local ,no encloding   ### all only global\n",
    "x=12\n",
    "def outer_fun():  \n",
    "    \n",
    "    def inner_fun():\n",
    "        \n",
    "        print(x)\n",
    "    inner_fun()\n",
    "    print(x)\n",
    "outer_fun()\n",
    "print(x)"
   ]
  },
  {
   "cell_type": "markdown",
   "metadata": {},
   "source": [
    "### flow of code excecution"
   ]
  },
  {
   "cell_type": "markdown",
   "metadata": {},
   "source": [
    "### can check at python tutor"
   ]
  },
  {
   "cell_type": "code",
   "execution_count": null,
   "metadata": {},
   "outputs": [],
   "source": [
    "def classify_number(num):\n",
    " if num > 0:\n",
    "    return \"Positive\"\n",
    " elif num < 0:\n",
    "    return \"Negative\"\n",
    " else:\n",
    "    return \"Zero\"\n",
    "# Function calls\n",
    "print(classify_number(10)) # Output: Positive\n",
    "print(classify_number(-5)) # Output: Negative\n",
    "print(classify_number(0)) # Output: Zero"
   ]
  },
  {
   "cell_type": "markdown",
   "metadata": {},
   "source": [
    "### nested functions"
   ]
  },
  {
   "cell_type": "code",
   "execution_count": 18,
   "metadata": {},
   "outputs": [
    {
     "data": {
      "text/plain": [
       "15"
      ]
     },
     "execution_count": 18,
     "metadata": {},
     "output_type": "execute_result"
    }
   ],
   "source": [
    "def outer_fun(outer):\n",
    "    def inner_fun(inner):\n",
    "        result=outer+inner\n",
    "        return result\n",
    "    result_inner=inner_fun(5)\n",
    "    return result_inner\n",
    "    \n",
    "outer_fun(10)"
   ]
  },
  {
   "cell_type": "code",
   "execution_count": 19,
   "metadata": {},
   "outputs": [
    {
     "name": "stdout",
     "output_type": "stream",
     "text": [
      "152\n"
     ]
    }
   ],
   "source": [
    "## sum of cubes\n",
    "def sum_of_cubes(a,b):\n",
    "    def cubes(x):\n",
    "        return x*x*x\n",
    "    def add(x,y):\n",
    "        return x+y\n",
    "    return add(cubes(a),cubes(b))\n",
    "\n",
    "result=sum_of_cubes(3,5)\n",
    "print(result)"
   ]
  },
  {
   "cell_type": "code",
   "execution_count": null,
   "metadata": {},
   "outputs": [],
   "source": []
  }
 ],
 "metadata": {
  "kernelspec": {
   "display_name": "bike",
   "language": "python",
   "name": "python3"
  },
  "language_info": {
   "codemirror_mode": {
    "name": "ipython",
    "version": 3
   },
   "file_extension": ".py",
   "mimetype": "text/x-python",
   "name": "python",
   "nbconvert_exporter": "python",
   "pygments_lexer": "ipython3",
   "version": "3.10.16"
  }
 },
 "nbformat": 4,
 "nbformat_minor": 2
}
