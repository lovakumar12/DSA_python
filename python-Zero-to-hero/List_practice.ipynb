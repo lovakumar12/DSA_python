{
 "cells": [
  {
   "cell_type": "markdown",
   "metadata": {},
   "source": [
    "## ref:: https://www.geeksforgeeks.org/python-programming-examples/"
   ]
  },
  {
   "cell_type": "markdown",
   "metadata": {},
   "source": [
    "## find sum of the array"
   ]
  },
  {
   "cell_type": "code",
   "execution_count": null,
   "metadata": {},
   "outputs": [
    {
     "name": "stdout",
     "output_type": "stream",
     "text": [
      "53\n"
     ]
    }
   ],
   "source": [
    "\n",
    "def sum(arr):\n",
    "    sum=0\n",
    "    for i in arr:\n",
    "        sum+=i  ## list adding logic\n",
    "    return sum\n",
    "if __name__==\"__main__\":\n",
    "  arr=[2,4,5,3,34,5]\n",
    "  print(sum(arr))"
   ]
  },
  {
   "cell_type": "markdown",
   "metadata": {},
   "source": [
    "## find largest element in the array"
   ]
  },
  {
   "cell_type": "code",
   "execution_count": 15,
   "metadata": {},
   "outputs": [
    {
     "name": "stdout",
     "output_type": "stream",
     "text": [
      "[45, 34, 2, 3, 4, 580, 3]\n",
      "[2, 34, 45, 3, 4, 580, 3]\n"
     ]
    }
   ],
   "source": [
    "arr=[34,45,2,3,4,580,3]\n",
    "arr[0],arr[1]=arr[1],arr[0]\n",
    "print(arr)\n",
    "arr[0],arr[2]=arr[2],arr[0]\n",
    "print(arr)"
   ]
  },
  {
   "cell_type": "code",
   "execution_count": 13,
   "metadata": {},
   "outputs": [
    {
     "data": {
      "text/plain": [
       "580"
      ]
     },
     "execution_count": 13,
     "metadata": {},
     "output_type": "execute_result"
    }
   ],
   "source": [
    "def largest_num(arr):\n",
    "    \n",
    "    for i in range(len(arr)):\n",
    "        for j in range(i+1,len(arr)):\n",
    "            if arr[i]<arr[j]:\n",
    "                arr[i],arr[j]=arr[j],arr[i]\n",
    "    return arr[0]\n",
    "                \n",
    "arr=[34,45,2,3,4,580,3]\n",
    "\n",
    "largest_num(arr)"
   ]
  },
  {
   "cell_type": "markdown",
   "metadata": {},
   "source": [
    "## largest num (method--2)"
   ]
  },
  {
   "cell_type": "code",
   "execution_count": 19,
   "metadata": {},
   "outputs": [
    {
     "data": {
      "text/plain": [
       "580"
      ]
     },
     "execution_count": 19,
     "metadata": {},
     "output_type": "execute_result"
    }
   ],
   "source": [
    "def largest_num1(arr):\n",
    "    max=arr[0]\n",
    "    for i in range(1,len(arr)):\n",
    "        if arr[i]>max:\n",
    "            max=arr[i]\n",
    "    return max\n",
    "arr=[34,45,2,3,4,580,3]\n",
    "largest_num1(arr)"
   ]
  },
  {
   "cell_type": "markdown",
   "metadata": {},
   "source": [
    "## array in descending order"
   ]
  },
  {
   "cell_type": "code",
   "execution_count": 17,
   "metadata": {},
   "outputs": [
    {
     "data": {
      "text/plain": [
       "[580, 45, 34, 4, 3, 3, 2]"
      ]
     },
     "execution_count": 17,
     "metadata": {},
     "output_type": "execute_result"
    }
   ],
   "source": [
    "arr=[34,45,2,3,4,580,3]#def largest_num(arr):\n",
    "def descending_order(arr):\n",
    "    for i in range(len(arr)):\n",
    "        for j in range(i+1,len(arr)):\n",
    "            if arr[i]<arr[j]:\n",
    "                arr[i],arr[j]=arr[j],arr[i]\n",
    "    return arr\n",
    "                \n",
    "\n",
    "descending_order(arr)"
   ]
  },
  {
   "cell_type": "code",
   "execution_count": 2,
   "metadata": {},
   "outputs": [
    {
     "name": "stdout",
     "output_type": "stream",
     "text": [
      "[580, 2, 34, 3, 4, 45, 3]\n",
      "[580, 45, 2, 3, 4, 34, 3]\n",
      "[580, 2, 45, 3, 4, 34, 3]\n",
      "[580, 2, 3, 45, 4, 34, 3]\n",
      "[580, 2, 3, 4, 45, 34, 3]\n",
      "[580, 2, 3, 4, 34, 45, 3]\n",
      "[580, 2, 3, 3, 4, 34, 45]\n"
     ]
    }
   ],
   "source": [
    "arr=[2, 34, 45, 3, 4, 580, 3]\n",
    "for i in range(len(arr)):\n",
    "    for j in range(1,len(arr)):\n",
    "        if arr[i]<arr[j]:\n",
    "            arr[i],arr[j]=arr[j],arr[i]\n",
    "    print(arr)\n",
    "    "
   ]
  },
  {
   "cell_type": "markdown",
   "metadata": {},
   "source": [
    "## array in ascending order"
   ]
  },
  {
   "cell_type": "code",
   "execution_count": 18,
   "metadata": {},
   "outputs": [
    {
     "data": {
      "text/plain": [
       "[2, 3, 3, 4, 34, 45, 580]"
      ]
     },
     "execution_count": 18,
     "metadata": {},
     "output_type": "execute_result"
    }
   ],
   "source": [
    "def ascending_order(arr):\n",
    "    for i in range(len(arr)):\n",
    "        for j in range(i+1,len(arr)):\n",
    "            if arr[i]>arr[j]:\n",
    "                arr[i],arr[j]=arr[j],arr[i]\n",
    "    return arr\n",
    "arr=[34,45,2,3,4,580,3]\n",
    "ascending_order(arr)"
   ]
  },
  {
   "cell_type": "markdown",
   "metadata": {},
   "source": [
    "## find sencond largest number in array\n"
   ]
  },
  {
   "cell_type": "code",
   "execution_count": 17,
   "metadata": {},
   "outputs": [
    {
     "data": {
      "text/plain": [
       "45"
      ]
     },
     "execution_count": 17,
     "metadata": {},
     "output_type": "execute_result"
    }
   ],
   "source": [
    "arr=[34,45,2,3,4,580,3]\n",
    "def second_largest(arr):\n",
    "    #max=arr[0]\n",
    "    for i in range(len(arr)):\n",
    "        for j in range(i+1,len(arr)):\n",
    "            if arr[i]<arr[j]:\n",
    "                arr[i],arr[j]=arr[j],arr[i]\n",
    "            \n",
    "    return arr[1]\n",
    "second_largest(arr)"
   ]
  },
  {
   "cell_type": "code",
   "execution_count": 18,
   "metadata": {},
   "outputs": [
    {
     "data": {
      "text/plain": [
       "452"
      ]
     },
     "execution_count": 18,
     "metadata": {},
     "output_type": "execute_result"
    }
   ],
   "source": [
    "arr=[2,3,45,56,78,234,452,456]\n",
    "second_largest(arr)"
   ]
  },
  {
   "cell_type": "markdown",
   "metadata": {},
   "source": [
    "## find n-largest number in the array"
   ]
  },
  {
   "cell_type": "code",
   "execution_count": 1,
   "metadata": {},
   "outputs": [
    {
     "data": {
      "text/plain": [
       "[67, 56, 34]"
      ]
     },
     "execution_count": 1,
     "metadata": {},
     "output_type": "execute_result"
    }
   ],
   "source": [
    "def n_largest(arr,n):\n",
    "    for i in range(len(arr)):\n",
    "        for j in range(i+1,len(arr)):\n",
    "            if arr[i]<arr[j]:\n",
    "                arr[i],arr[j]=arr[j],arr[i]\n",
    "    return arr[:n]\n",
    "arr=[3,34,5,56,67,3,4,5]\n",
    "n=3\n",
    "n_largest(arr,n)\n",
    "    "
   ]
  },
  {
   "cell_type": "markdown",
   "metadata": {},
   "source": [
    "## remove duplicates from the list"
   ]
  },
  {
   "cell_type": "code",
   "execution_count": 13,
   "metadata": {},
   "outputs": [
    {
     "data": {
      "text/plain": [
       "[3, 34, 5, 56, 67, 4]"
      ]
     },
     "execution_count": 13,
     "metadata": {},
     "output_type": "execute_result"
    }
   ],
   "source": [
    "arr=[3,34,5,5,56,67,67,34,4,5]\n",
    "def remove_duplicates(arr):\n",
    "    new_lst=[]\n",
    "    for i in arr:\n",
    "        if i not in new_lst :\n",
    "                new_lst.append(i)\n",
    "    return new_lst\n",
    "remove_duplicates(arr)\n",
    "    "
   ]
  },
  {
   "cell_type": "markdown",
   "metadata": {},
   "source": [
    "## print the duplicates"
   ]
  },
  {
   "cell_type": "code",
   "execution_count": 29,
   "metadata": {},
   "outputs": [
    {
     "name": "stdout",
     "output_type": "stream",
     "text": [
      "dup is {34, 67, 5},  and dup count is 4\n"
     ]
    }
   ],
   "source": [
    "arr=[3,34,5,5,56,67,67,34,4,5]\n",
    "def duplicates_lst(arr):\n",
    "    dup=set()\n",
    "    count=0\n",
    "    lst=[]\n",
    "    for i in arr:\n",
    "        \n",
    "        if i not in lst:\n",
    "            lst.append(i)\n",
    "        else:\n",
    "            dup.add(i)\n",
    "            count +=1\n",
    "              \n",
    "    return dup ,count\n",
    "\n",
    "a,b=duplicates_lst(arr)  \n",
    "print(f\"dup is {a},  and dup count is {b}\")"
   ]
  },
  {
   "cell_type": "markdown",
   "metadata": {},
   "source": [
    "## remove empty list"
   ]
  },
  {
   "cell_type": "markdown",
   "metadata": {},
   "source": [
    "a = [[1, 2], [], [3, 4], [], [5]]\n",
    "res = []"
   ]
  },
  {
   "cell_type": "code",
   "execution_count": 12,
   "metadata": {},
   "outputs": [
    {
     "data": {
      "text/plain": [
       "[[1, 2], [3, 4], [5]]"
      ]
     },
     "execution_count": 12,
     "metadata": {},
     "output_type": "execute_result"
    }
   ],
   "source": [
    "a = [[1, 2], [], [3, 4], [], [5]]\n",
    "\n",
    "def remove_lst(lis):\n",
    "    a=[]\n",
    "    for i in lis:\n",
    "       if i:\n",
    "        a.append(i)\n",
    "    return a \n",
    "remove_lst(a)"
   ]
  },
  {
   "cell_type": "markdown",
   "metadata": {},
   "source": [
    "## empty tuple removing"
   ]
  },
  {
   "cell_type": "code",
   "execution_count": 15,
   "metadata": {},
   "outputs": [
    {
     "data": {
      "text/plain": [
       "[[1, 2], [3, 4], [5]]"
      ]
     },
     "execution_count": 15,
     "metadata": {},
     "output_type": "execute_result"
    }
   ],
   "source": [
    "a = [[1, 2], (), [3, 4], [], [5]]\n",
    "\n",
    "def remove_lst(lis):\n",
    "    a=[]\n",
    "    for i in lis:\n",
    "       if i:\n",
    "        a.append(i)\n",
    "    return a \n",
    "remove_lst(a)"
   ]
  },
  {
   "cell_type": "markdown",
   "metadata": {},
   "source": [
    "## cumulative sum of elements in the list"
   ]
  },
  {
   "cell_type": "code",
   "execution_count": 31,
   "metadata": {},
   "outputs": [
    {
     "data": {
      "text/plain": [
       "[3, 37, 42, 47, 103, 170, 237, 271, 275, 280]"
      ]
     },
     "execution_count": 31,
     "metadata": {},
     "output_type": "execute_result"
    }
   ],
   "source": [
    "arr=[3,34,5,5,56,67,67,34,4,5]\n",
    "def cum_sum_lis(arr):\n",
    "    cum_sum=[]\n",
    "    add=0\n",
    "    for i in arr:\n",
    "        add+=i\n",
    "        cum_sum.append(add)\n",
    "    return cum_sum\n",
    "cum_sum_lis(arr)"
   ]
  },
  {
   "cell_type": "markdown",
   "metadata": {},
   "source": [
    "## digit sum in the list of numbers"
   ]
  },
  {
   "cell_type": "code",
   "execution_count": 42,
   "metadata": {},
   "outputs": [
    {
     "name": "stdout",
     "output_type": "stream",
     "text": [
      "[6, 12, 18]\n"
     ]
    }
   ],
   "source": [
    "def digit_sum(val):\n",
    "    total=0\n",
    "    while val>0:\n",
    "           \n",
    "        total += val % 10\n",
    "        #val //= 10\n",
    "        val=val//10\n",
    "    return total\n",
    "arr=[123,345,567]\n",
    "arr1=[]\n",
    "for i in arr:\n",
    "    total=digit_sum(i)\n",
    "    arr1.append(total) \n",
    "print(arr1)        "
   ]
  },
  {
   "cell_type": "code",
   "execution_count": null,
   "metadata": {},
   "outputs": [],
   "source": []
  }
 ],
 "metadata": {
  "kernelspec": {
   "display_name": "bike",
   "language": "python",
   "name": "python3"
  },
  "language_info": {
   "codemirror_mode": {
    "name": "ipython",
    "version": 3
   },
   "file_extension": ".py",
   "mimetype": "text/x-python",
   "name": "python",
   "nbconvert_exporter": "python",
   "pygments_lexer": "ipython3",
   "version": "3.10.16"
  }
 },
 "nbformat": 4,
 "nbformat_minor": 2
}
